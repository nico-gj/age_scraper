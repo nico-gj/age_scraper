{
 "cells": [
  {
   "cell_type": "markdown",
   "metadata": {},
   "source": [
    "# Scraping Researcher Ages on Veromi"
   ]
  },
  {
   "cell_type": "markdown",
   "metadata": {},
   "source": [
    "## Python Setup"
   ]
  },
  {
   "cell_type": "code",
   "execution_count": 1,
   "metadata": {},
   "outputs": [],
   "source": [
    "from multiprocessing import Pool\n",
    "import multiprocessing\n",
    "import pandas as pd\n",
    "import numpy as np\n",
    "import requests\n",
    "from bs4 import BeautifulSoup\n",
    "import unidecode\n",
    "from veromi_query import query"
   ]
  },
  {
   "cell_type": "markdown",
   "metadata": {},
   "source": [
    "## List of Individuals"
   ]
  },
  {
   "cell_type": "markdown",
   "metadata": {},
   "source": [
    "Let's load in the list of individuals for whom we want to scrape the age. This list already has a unique ID variable per inventor."
   ]
  },
  {
   "cell_type": "code",
   "execution_count": 88,
   "metadata": {},
   "outputs": [],
   "source": [
    "ind = pd.read_csv('../data/raw/ind_info.csv', low_memory=False)"
   ]
  },
  {
   "cell_type": "code",
   "execution_count": 89,
   "metadata": {},
   "outputs": [],
   "source": [
    "del ind['Unnamed: 0'], ind['selected_subset'], ind['last_name']\n",
    "ind.rename(columns={'full_last_name': 'last_name', 'inventor_id':'id'}, inplace = True)"
   ]
  },
  {
   "cell_type": "code",
   "execution_count": 90,
   "metadata": {},
   "outputs": [
    {
     "data": {
      "text/html": [
       "<div>\n",
       "<style scoped>\n",
       "    .dataframe tbody tr th:only-of-type {\n",
       "        vertical-align: middle;\n",
       "    }\n",
       "\n",
       "    .dataframe tbody tr th {\n",
       "        vertical-align: top;\n",
       "    }\n",
       "\n",
       "    .dataframe thead th {\n",
       "        text-align: right;\n",
       "    }\n",
       "</style>\n",
       "<table border=\"1\" class=\"dataframe\">\n",
       "  <thead>\n",
       "    <tr style=\"text-align: right;\">\n",
       "      <th></th>\n",
       "      <th>id</th>\n",
       "      <th>first_name</th>\n",
       "      <th>middle_name</th>\n",
       "      <th>last_name</th>\n",
       "      <th>city</th>\n",
       "      <th>state</th>\n",
       "      <th>country</th>\n",
       "    </tr>\n",
       "  </thead>\n",
       "  <tbody>\n",
       "    <tr>\n",
       "      <th>count</th>\n",
       "      <td>4980929</td>\n",
       "      <td>4979455</td>\n",
       "      <td>2223368</td>\n",
       "      <td>4979597</td>\n",
       "      <td>4970991</td>\n",
       "      <td>2264690</td>\n",
       "      <td>4975800</td>\n",
       "    </tr>\n",
       "    <tr>\n",
       "      <th>unique</th>\n",
       "      <td>3663409</td>\n",
       "      <td>194144</td>\n",
       "      <td>49122</td>\n",
       "      <td>631580</td>\n",
       "      <td>103621</td>\n",
       "      <td>61</td>\n",
       "      <td>249</td>\n",
       "    </tr>\n",
       "    <tr>\n",
       "      <th>top</th>\n",
       "      <td>4090850-1</td>\n",
       "      <td>John</td>\n",
       "      <td>J.</td>\n",
       "      <td>Lee</td>\n",
       "      <td>Tokyo</td>\n",
       "      <td>CA</td>\n",
       "      <td>US</td>\n",
       "    </tr>\n",
       "    <tr>\n",
       "      <th>freq</th>\n",
       "      <td>200</td>\n",
       "      <td>94614</td>\n",
       "      <td>169824</td>\n",
       "      <td>37219</td>\n",
       "      <td>124683</td>\n",
       "      <td>447839</td>\n",
       "      <td>2266802</td>\n",
       "    </tr>\n",
       "  </tbody>\n",
       "</table>\n",
       "</div>"
      ],
      "text/plain": [
       "               id first_name middle_name last_name     city    state  country\n",
       "count     4980929    4979455     2223368   4979597  4970991  2264690  4975800\n",
       "unique    3663409     194144       49122    631580   103621       61      249\n",
       "top     4090850-1       John          J.       Lee    Tokyo       CA       US\n",
       "freq          200      94614      169824     37219   124683   447839  2266802"
      ]
     },
     "execution_count": 90,
     "metadata": {},
     "output_type": "execute_result"
    }
   ],
   "source": [
    "ind.describe(include='all')"
   ]
  },
  {
   "cell_type": "code",
   "execution_count": 91,
   "metadata": {},
   "outputs": [],
   "source": [
    "ind = ind[ind['country']==\"US\"].reset_index(drop=True)"
   ]
  },
  {
   "cell_type": "code",
   "execution_count": 92,
   "metadata": {},
   "outputs": [
    {
     "data": {
      "text/html": [
       "<div>\n",
       "<style scoped>\n",
       "    .dataframe tbody tr th:only-of-type {\n",
       "        vertical-align: middle;\n",
       "    }\n",
       "\n",
       "    .dataframe tbody tr th {\n",
       "        vertical-align: top;\n",
       "    }\n",
       "\n",
       "    .dataframe thead th {\n",
       "        text-align: right;\n",
       "    }\n",
       "</style>\n",
       "<table border=\"1\" class=\"dataframe\">\n",
       "  <thead>\n",
       "    <tr style=\"text-align: right;\">\n",
       "      <th></th>\n",
       "      <th>id</th>\n",
       "      <th>first_name</th>\n",
       "      <th>middle_name</th>\n",
       "      <th>last_name</th>\n",
       "      <th>city</th>\n",
       "      <th>state</th>\n",
       "      <th>country</th>\n",
       "    </tr>\n",
       "  </thead>\n",
       "  <tbody>\n",
       "    <tr>\n",
       "      <th>count</th>\n",
       "      <td>2266802</td>\n",
       "      <td>2266745</td>\n",
       "      <td>1637819</td>\n",
       "      <td>2266783</td>\n",
       "      <td>2265349</td>\n",
       "      <td>2264690</td>\n",
       "      <td>2266802</td>\n",
       "    </tr>\n",
       "    <tr>\n",
       "      <th>unique</th>\n",
       "      <td>1796830</td>\n",
       "      <td>86199</td>\n",
       "      <td>28147</td>\n",
       "      <td>357823</td>\n",
       "      <td>22141</td>\n",
       "      <td>61</td>\n",
       "      <td>1</td>\n",
       "    </tr>\n",
       "    <tr>\n",
       "      <th>top</th>\n",
       "      <td>5766379-2</td>\n",
       "      <td>John</td>\n",
       "      <td>J.</td>\n",
       "      <td>Smith</td>\n",
       "      <td>San Jose</td>\n",
       "      <td>CA</td>\n",
       "      <td>US</td>\n",
       "    </tr>\n",
       "    <tr>\n",
       "      <th>freq</th>\n",
       "      <td>67</td>\n",
       "      <td>78303</td>\n",
       "      <td>142608</td>\n",
       "      <td>12895</td>\n",
       "      <td>33910</td>\n",
       "      <td>447839</td>\n",
       "      <td>2266802</td>\n",
       "    </tr>\n",
       "  </tbody>\n",
       "</table>\n",
       "</div>"
      ],
      "text/plain": [
       "               id first_name middle_name last_name      city    state  country\n",
       "count     2266802    2266745     1637819   2266783   2265349  2264690  2266802\n",
       "unique    1796830      86199       28147    357823     22141       61        1\n",
       "top     5766379-2       John          J.     Smith  San Jose       CA       US\n",
       "freq           67      78303      142608     12895     33910   447839  2266802"
      ]
     },
     "execution_count": 92,
     "metadata": {},
     "output_type": "execute_result"
    }
   ],
   "source": [
    "ind.describe(include='all')"
   ]
  },
  {
   "cell_type": "markdown",
   "metadata": {},
   "source": [
    "### Data Cleanup"
   ]
  },
  {
   "cell_type": "code",
   "execution_count": 93,
   "metadata": {},
   "outputs": [],
   "source": [
    "string_vars = ['first_name', 'middle_name', 'last_name', 'city', 'state', 'country']\n",
    "for var in string_vars:\n",
    "    ind[var] = ind[var].str.upper().str.strip().fillna('')"
   ]
  },
  {
   "cell_type": "markdown",
   "metadata": {},
   "source": [
    "__TO DO: Remove \"Jr.\"__"
   ]
  },
  {
   "cell_type": "markdown",
   "metadata": {},
   "source": [
    "### Export to CSV"
   ]
  },
  {
   "cell_type": "code",
   "execution_count": 10,
   "metadata": {},
   "outputs": [],
   "source": [
    "ind.to_csv('../data/ind_clean.csv', index=False)"
   ]
  },
  {
   "cell_type": "code",
   "execution_count": 11,
   "metadata": {},
   "outputs": [],
   "source": [
    "ind.head(10000).to_csv('../data/ind_clean_sample.csv', index=False)"
   ]
  },
  {
   "cell_type": "markdown",
   "metadata": {},
   "source": [
    "## Scrape Profiles"
   ]
  },
  {
   "cell_type": "markdown",
   "metadata": {},
   "source": [
    "__Run `age_scraper.py` code.__"
   ]
  },
  {
   "cell_type": "markdown",
   "metadata": {},
   "source": [
    "The following code works for a limited number of queries."
   ]
  },
  {
   "cell_type": "markdown",
   "metadata": {},
   "source": [
    "```\n",
    "import pandas as pd\n",
    "from veromi_query import query\n",
    "\n",
    "# Load in data:\n",
    "ind = pd.read_csv('../data/ind_clean.csv', low_memory=False)\n",
    "ind = ind.fillna('')\n",
    "\n",
    "# Query Veromi:\n",
    "profiles = query([[0, ind, ind.shape[0]])\n",
    "\n",
    "# Export to CSV:\n",
    "profiles.to_csv('../data/profiles_ind_clean.csv', index=False)\n",
    "```"
   ]
  },
  {
   "cell_type": "markdown",
   "metadata": {},
   "source": [
    "When running a large number of queries, I adapt the code for parallelization. Here is the example for 3 parallel tasks. In reality, I used a clustered computing system and 100 parallel tasks."
   ]
  },
  {
   "cell_type": "markdown",
   "metadata": {},
   "source": [
    "```\n",
    "from multiprocessing import Pool\n",
    "import multiprocessing\n",
    "import pandas as pd\n",
    "from veromi_query import query\n",
    "\n",
    "\n",
    "# Load in data:\n",
    "ind = pd.read_csv('../data/ind_clean.csv', low_memory=False)\n",
    "ind = ind.fillna('')\n",
    "\n",
    "# Define Pool:\n",
    "pool = Pool(processes=3)\n",
    "\n",
    "# Run query for the job:\n",
    "profiles0 = pool.apply_async(query, [[0, ind, 1000000]])\n",
    "profiles1 = pool.apply_async(query, [[1, ind, 1000000]])\n",
    "profiles2 = pool.apply_async(query, [[2, ind, 1000000]])\n",
    "profiles0 = profiles0.get()\n",
    "profiles1 = profiles1.get()\n",
    "profiles2 = profiles2.get()\n",
    "\n",
    "# Combine Frames:\n",
    "frames = [profiles0, profiles1, profiles2]\n",
    "\n",
    "profiles = pd.concat(frames).reset_index(drop=True)\n",
    "\n",
    "# Export results as CSV\n",
    "profiles.to_csv('../data/.csv', index=False)\n",
    "```"
   ]
  },
  {
   "cell_type": "markdown",
   "metadata": {},
   "source": [
    "## Parse Age from Data"
   ]
  },
  {
   "cell_type": "code",
   "execution_count": 2,
   "metadata": {},
   "outputs": [],
   "source": [
    "nb_processes = 100"
   ]
  },
  {
   "cell_type": "code",
   "execution_count": 3,
   "metadata": {},
   "outputs": [],
   "source": [
    "# Load in entire dataset\n",
    "profiles = pd.read_csv('../data/profiles_ind_clean.csv')"
   ]
  },
  {
   "cell_type": "code",
   "execution_count": 4,
   "metadata": {},
   "outputs": [
    {
     "data": {
      "text/html": [
       "<div>\n",
       "<style scoped>\n",
       "    .dataframe tbody tr th:only-of-type {\n",
       "        vertical-align: middle;\n",
       "    }\n",
       "\n",
       "    .dataframe tbody tr th {\n",
       "        vertical-align: top;\n",
       "    }\n",
       "\n",
       "    .dataframe thead th {\n",
       "        text-align: right;\n",
       "    }\n",
       "</style>\n",
       "<table border=\"1\" class=\"dataframe\">\n",
       "  <thead>\n",
       "    <tr style=\"text-align: right;\">\n",
       "      <th></th>\n",
       "      <th>id</th>\n",
       "      <th>name</th>\n",
       "    </tr>\n",
       "  </thead>\n",
       "  <tbody>\n",
       "    <tr>\n",
       "      <th>0</th>\n",
       "      <td>0.0</td>\n",
       "      <td>SYFRITT, HAROLD ARTHUR (Age 79)</td>\n",
       "    </tr>\n",
       "    <tr>\n",
       "      <th>1</th>\n",
       "      <td>1.0</td>\n",
       "      <td>SYFRITT, HAROLD ARTHUR (Age 79)</td>\n",
       "    </tr>\n",
       "    <tr>\n",
       "      <th>2</th>\n",
       "      <td>2.0</td>\n",
       "      <td>BAILIN, RICHARD C (Age 91)</td>\n",
       "    </tr>\n",
       "    <tr>\n",
       "      <th>3</th>\n",
       "      <td>2.0</td>\n",
       "      <td>BAILIN, RICHARD</td>\n",
       "    </tr>\n",
       "    <tr>\n",
       "      <th>4</th>\n",
       "      <td>3.0</td>\n",
       "      <td>VANBRAKEL, RUSSEL A (Age 81)</td>\n",
       "    </tr>\n",
       "  </tbody>\n",
       "</table>\n",
       "</div>"
      ],
      "text/plain": [
       "    id                             name\n",
       "0  0.0  SYFRITT, HAROLD ARTHUR (Age 79)\n",
       "1  1.0  SYFRITT, HAROLD ARTHUR (Age 79)\n",
       "2  2.0       BAILIN, RICHARD C (Age 91)\n",
       "3  2.0                 BAILIN, RICHARD \n",
       "4  3.0     VANBRAKEL, RUSSEL A (Age 81)"
      ]
     },
     "execution_count": 4,
     "metadata": {},
     "output_type": "execute_result"
    }
   ],
   "source": [
    "profiles.head()"
   ]
  },
  {
   "cell_type": "code",
   "execution_count": 5,
   "metadata": {},
   "outputs": [],
   "source": [
    "profiles['age'] = profiles['name'].str.extract(r'(\\(Age\\s\\d+\\))', expand=True)\n",
    "profiles['age'] = pd.to_numeric(profiles['age'].str.extract(r'(\\d+)', expand=False))"
   ]
  },
  {
   "cell_type": "code",
   "execution_count": 58,
   "metadata": {},
   "outputs": [],
   "source": [
    "temp = profiles.sort_values(['id', 'name'])"
   ]
  },
  {
   "cell_type": "code",
   "execution_count": 94,
   "metadata": {},
   "outputs": [
    {
     "data": {
      "text/html": [
       "<div>\n",
       "<style scoped>\n",
       "    .dataframe tbody tr th:only-of-type {\n",
       "        vertical-align: middle;\n",
       "    }\n",
       "\n",
       "    .dataframe tbody tr th {\n",
       "        vertical-align: top;\n",
       "    }\n",
       "\n",
       "    .dataframe thead th {\n",
       "        text-align: right;\n",
       "    }\n",
       "</style>\n",
       "<table border=\"1\" class=\"dataframe\">\n",
       "  <thead>\n",
       "    <tr style=\"text-align: right;\">\n",
       "      <th></th>\n",
       "      <th>id</th>\n",
       "      <th>name</th>\n",
       "      <th>age</th>\n",
       "    </tr>\n",
       "  </thead>\n",
       "  <tbody>\n",
       "    <tr>\n",
       "      <th>0</th>\n",
       "      <td>0.0</td>\n",
       "      <td>SYFRITT, HAROLD ARTHUR (Age 79)</td>\n",
       "      <td>79.0</td>\n",
       "    </tr>\n",
       "    <tr>\n",
       "      <th>1</th>\n",
       "      <td>1.0</td>\n",
       "      <td>SYFRITT, HAROLD ARTHUR (Age 79)</td>\n",
       "      <td>79.0</td>\n",
       "    </tr>\n",
       "    <tr>\n",
       "      <th>3</th>\n",
       "      <td>2.0</td>\n",
       "      <td>BAILIN, RICHARD</td>\n",
       "      <td>NaN</td>\n",
       "    </tr>\n",
       "    <tr>\n",
       "      <th>2</th>\n",
       "      <td>2.0</td>\n",
       "      <td>BAILIN, RICHARD C (Age 91)</td>\n",
       "      <td>91.0</td>\n",
       "    </tr>\n",
       "    <tr>\n",
       "      <th>5</th>\n",
       "      <td>3.0</td>\n",
       "      <td>VAN BRAKEL, BRAKEL RUSSELL</td>\n",
       "      <td>NaN</td>\n",
       "    </tr>\n",
       "  </tbody>\n",
       "</table>\n",
       "</div>"
      ],
      "text/plain": [
       "    id                             name   age\n",
       "0  0.0  SYFRITT, HAROLD ARTHUR (Age 79)  79.0\n",
       "1  1.0  SYFRITT, HAROLD ARTHUR (Age 79)  79.0\n",
       "3  2.0                 BAILIN, RICHARD    NaN\n",
       "2  2.0       BAILIN, RICHARD C (Age 91)  91.0\n",
       "5  3.0       VAN BRAKEL, BRAKEL RUSSELL   NaN"
      ]
     },
     "execution_count": 94,
     "metadata": {},
     "output_type": "execute_result"
    }
   ],
   "source": [
    "temp.head()"
   ]
  },
  {
   "cell_type": "markdown",
   "metadata": {},
   "source": [
    "For now, let's keep the most common age associated to a given Individual\\*Location ID. This also gets rid on `NaN` values."
   ]
  },
  {
   "cell_type": "code",
   "execution_count": 17,
   "metadata": {},
   "outputs": [],
   "source": [
    "age_lookup = profiles.groupby(['id', 'age']).size().reset_index().rename(columns={0: 'match_count'})\n",
    "age_lookup = age_lookup.sort_values(['id', 'match_count'], ascending=[True, False])\n",
    "age_lookup = age_lookup.drop_duplicates('id', keep='first')"
   ]
  },
  {
   "cell_type": "markdown",
   "metadata": {},
   "source": [
    "Let's also collect some matching stats."
   ]
  },
  {
   "cell_type": "code",
   "execution_count": 14,
   "metadata": {},
   "outputs": [],
   "source": [
    "matching_stats = profiles.groupby(['id'])\n",
    "matching_stats = pd.DataFrame({'nb_matches': matching_stats.size(),\n",
    "                               'nb_matches_with_age': matching_stats['age'].count(),\n",
    "                               'nb_unique_ages': matching_stats['age'].nunique()\n",
    "                              }).reset_index()"
   ]
  },
  {
   "cell_type": "markdown",
   "metadata": {},
   "source": [
    "## Merge back onto the Original Data of Individuals\\*Locations"
   ]
  },
  {
   "cell_type": "code",
   "execution_count": 96,
   "metadata": {},
   "outputs": [],
   "source": [
    "ind = pd.read_csv('../data/ind_clean.csv')"
   ]
  },
  {
   "cell_type": "code",
   "execution_count": 97,
   "metadata": {},
   "outputs": [],
   "source": [
    "ind = pd.merge(ind, age_lookup, how='left', on='id')\n",
    "ind = pd.merge(ind, matching_stats, how='left', on='id')\n",
    "ind['nb_matches'].fillna(0, inplace=True)\n",
    "ind['nb_matches_with_names'].fillna(0, inplace=True)\n",
    "ind['nb_unique_ages'].fillna(0, inplace=True)"
   ]
  },
  {
   "cell_type": "code",
   "execution_count": 98,
   "metadata": {},
   "outputs": [
    {
     "data": {
      "text/html": [
       "<div>\n",
       "<style scoped>\n",
       "    .dataframe tbody tr th:only-of-type {\n",
       "        vertical-align: middle;\n",
       "    }\n",
       "\n",
       "    .dataframe tbody tr th {\n",
       "        vertical-align: top;\n",
       "    }\n",
       "\n",
       "    .dataframe thead th {\n",
       "        text-align: right;\n",
       "    }\n",
       "</style>\n",
       "<table border=\"1\" class=\"dataframe\">\n",
       "  <thead>\n",
       "    <tr style=\"text-align: right;\">\n",
       "      <th></th>\n",
       "      <th>inventor_id</th>\n",
       "      <th>first_name</th>\n",
       "      <th>middle_name</th>\n",
       "      <th>last_name</th>\n",
       "      <th>city</th>\n",
       "      <th>state</th>\n",
       "      <th>country</th>\n",
       "      <th>id</th>\n",
       "      <th>age</th>\n",
       "      <th>match_count</th>\n",
       "      <th>nb_matches</th>\n",
       "      <th>nb_matches_with_names</th>\n",
       "      <th>nb_unique_ages</th>\n",
       "    </tr>\n",
       "  </thead>\n",
       "  <tbody>\n",
       "    <tr>\n",
       "      <th>count</th>\n",
       "      <td>2266802</td>\n",
       "      <td>2266711</td>\n",
       "      <td>1637791</td>\n",
       "      <td>2266688</td>\n",
       "      <td>2265349</td>\n",
       "      <td>2264690</td>\n",
       "      <td>2266802</td>\n",
       "      <td>2266802.0</td>\n",
       "      <td>1.876797e+06</td>\n",
       "      <td>1.876797e+06</td>\n",
       "      <td>2.266802e+06</td>\n",
       "      <td>2.266802e+06</td>\n",
       "      <td>2.266802e+06</td>\n",
       "    </tr>\n",
       "    <tr>\n",
       "      <th>unique</th>\n",
       "      <td>1796830</td>\n",
       "      <td>85489</td>\n",
       "      <td>27940</td>\n",
       "      <td>355369</td>\n",
       "      <td>22125</td>\n",
       "      <td>61</td>\n",
       "      <td>1</td>\n",
       "      <td>2266802.0</td>\n",
       "      <td>NaN</td>\n",
       "      <td>NaN</td>\n",
       "      <td>NaN</td>\n",
       "      <td>NaN</td>\n",
       "      <td>NaN</td>\n",
       "    </tr>\n",
       "    <tr>\n",
       "      <th>top</th>\n",
       "      <td>5766379-2</td>\n",
       "      <td>JOHN</td>\n",
       "      <td>J.</td>\n",
       "      <td>SMITH</td>\n",
       "      <td>SAN JOSE</td>\n",
       "      <td>CA</td>\n",
       "      <td>US</td>\n",
       "      <td>2266801.0</td>\n",
       "      <td>NaN</td>\n",
       "      <td>NaN</td>\n",
       "      <td>NaN</td>\n",
       "      <td>NaN</td>\n",
       "      <td>NaN</td>\n",
       "    </tr>\n",
       "    <tr>\n",
       "      <th>freq</th>\n",
       "      <td>67</td>\n",
       "      <td>78303</td>\n",
       "      <td>142609</td>\n",
       "      <td>12895</td>\n",
       "      <td>33910</td>\n",
       "      <td>447839</td>\n",
       "      <td>2266802</td>\n",
       "      <td>1.0</td>\n",
       "      <td>NaN</td>\n",
       "      <td>NaN</td>\n",
       "      <td>NaN</td>\n",
       "      <td>NaN</td>\n",
       "      <td>NaN</td>\n",
       "    </tr>\n",
       "    <tr>\n",
       "      <th>mean</th>\n",
       "      <td>NaN</td>\n",
       "      <td>NaN</td>\n",
       "      <td>NaN</td>\n",
       "      <td>NaN</td>\n",
       "      <td>NaN</td>\n",
       "      <td>NaN</td>\n",
       "      <td>NaN</td>\n",
       "      <td>NaN</td>\n",
       "      <td>5.974880e+01</td>\n",
       "      <td>1.299313e+00</td>\n",
       "      <td>4.076881e+00</td>\n",
       "      <td>2.675753e+00</td>\n",
       "      <td>2.181955e+00</td>\n",
       "    </tr>\n",
       "    <tr>\n",
       "      <th>std</th>\n",
       "      <td>NaN</td>\n",
       "      <td>NaN</td>\n",
       "      <td>NaN</td>\n",
       "      <td>NaN</td>\n",
       "      <td>NaN</td>\n",
       "      <td>NaN</td>\n",
       "      <td>NaN</td>\n",
       "      <td>NaN</td>\n",
       "      <td>1.510506e+01</td>\n",
       "      <td>7.314095e-01</td>\n",
       "      <td>8.951167e+00</td>\n",
       "      <td>5.432650e+00</td>\n",
       "      <td>3.918751e+00</td>\n",
       "    </tr>\n",
       "    <tr>\n",
       "      <th>min</th>\n",
       "      <td>NaN</td>\n",
       "      <td>NaN</td>\n",
       "      <td>NaN</td>\n",
       "      <td>NaN</td>\n",
       "      <td>NaN</td>\n",
       "      <td>NaN</td>\n",
       "      <td>NaN</td>\n",
       "      <td>NaN</td>\n",
       "      <td>1.800000e+01</td>\n",
       "      <td>1.000000e+00</td>\n",
       "      <td>0.000000e+00</td>\n",
       "      <td>0.000000e+00</td>\n",
       "      <td>0.000000e+00</td>\n",
       "    </tr>\n",
       "    <tr>\n",
       "      <th>25%</th>\n",
       "      <td>NaN</td>\n",
       "      <td>NaN</td>\n",
       "      <td>NaN</td>\n",
       "      <td>NaN</td>\n",
       "      <td>NaN</td>\n",
       "      <td>NaN</td>\n",
       "      <td>NaN</td>\n",
       "      <td>NaN</td>\n",
       "      <td>4.900000e+01</td>\n",
       "      <td>1.000000e+00</td>\n",
       "      <td>1.000000e+00</td>\n",
       "      <td>1.000000e+00</td>\n",
       "      <td>1.000000e+00</td>\n",
       "    </tr>\n",
       "    <tr>\n",
       "      <th>50%</th>\n",
       "      <td>NaN</td>\n",
       "      <td>NaN</td>\n",
       "      <td>NaN</td>\n",
       "      <td>NaN</td>\n",
       "      <td>NaN</td>\n",
       "      <td>NaN</td>\n",
       "      <td>NaN</td>\n",
       "      <td>NaN</td>\n",
       "      <td>5.800000e+01</td>\n",
       "      <td>1.000000e+00</td>\n",
       "      <td>1.000000e+00</td>\n",
       "      <td>1.000000e+00</td>\n",
       "      <td>1.000000e+00</td>\n",
       "    </tr>\n",
       "    <tr>\n",
       "      <th>75%</th>\n",
       "      <td>NaN</td>\n",
       "      <td>NaN</td>\n",
       "      <td>NaN</td>\n",
       "      <td>NaN</td>\n",
       "      <td>NaN</td>\n",
       "      <td>NaN</td>\n",
       "      <td>NaN</td>\n",
       "      <td>NaN</td>\n",
       "      <td>6.900000e+01</td>\n",
       "      <td>1.000000e+00</td>\n",
       "      <td>3.000000e+00</td>\n",
       "      <td>2.000000e+00</td>\n",
       "      <td>2.000000e+00</td>\n",
       "    </tr>\n",
       "    <tr>\n",
       "      <th>max</th>\n",
       "      <td>NaN</td>\n",
       "      <td>NaN</td>\n",
       "      <td>NaN</td>\n",
       "      <td>NaN</td>\n",
       "      <td>NaN</td>\n",
       "      <td>NaN</td>\n",
       "      <td>NaN</td>\n",
       "      <td>NaN</td>\n",
       "      <td>1.380000e+02</td>\n",
       "      <td>5.000000e+01</td>\n",
       "      <td>5.000000e+01</td>\n",
       "      <td>5.000000e+01</td>\n",
       "      <td>3.700000e+01</td>\n",
       "    </tr>\n",
       "  </tbody>\n",
       "</table>\n",
       "</div>"
      ],
      "text/plain": [
       "       inventor_id first_name middle_name last_name      city    state  \\\n",
       "count      2266802    2266711     1637791   2266688   2265349  2264690   \n",
       "unique     1796830      85489       27940    355369     22125       61   \n",
       "top      5766379-2       JOHN          J.     SMITH  SAN JOSE       CA   \n",
       "freq            67      78303      142609     12895     33910   447839   \n",
       "mean           NaN        NaN         NaN       NaN       NaN      NaN   \n",
       "std            NaN        NaN         NaN       NaN       NaN      NaN   \n",
       "min            NaN        NaN         NaN       NaN       NaN      NaN   \n",
       "25%            NaN        NaN         NaN       NaN       NaN      NaN   \n",
       "50%            NaN        NaN         NaN       NaN       NaN      NaN   \n",
       "75%            NaN        NaN         NaN       NaN       NaN      NaN   \n",
       "max            NaN        NaN         NaN       NaN       NaN      NaN   \n",
       "\n",
       "        country         id           age   match_count    nb_matches  \\\n",
       "count   2266802  2266802.0  1.876797e+06  1.876797e+06  2.266802e+06   \n",
       "unique        1  2266802.0           NaN           NaN           NaN   \n",
       "top          US  2266801.0           NaN           NaN           NaN   \n",
       "freq    2266802        1.0           NaN           NaN           NaN   \n",
       "mean        NaN        NaN  5.974880e+01  1.299313e+00  4.076881e+00   \n",
       "std         NaN        NaN  1.510506e+01  7.314095e-01  8.951167e+00   \n",
       "min         NaN        NaN  1.800000e+01  1.000000e+00  0.000000e+00   \n",
       "25%         NaN        NaN  4.900000e+01  1.000000e+00  1.000000e+00   \n",
       "50%         NaN        NaN  5.800000e+01  1.000000e+00  1.000000e+00   \n",
       "75%         NaN        NaN  6.900000e+01  1.000000e+00  3.000000e+00   \n",
       "max         NaN        NaN  1.380000e+02  5.000000e+01  5.000000e+01   \n",
       "\n",
       "        nb_matches_with_names  nb_unique_ages  \n",
       "count            2.266802e+06    2.266802e+06  \n",
       "unique                    NaN             NaN  \n",
       "top                       NaN             NaN  \n",
       "freq                      NaN             NaN  \n",
       "mean             2.675753e+00    2.181955e+00  \n",
       "std              5.432650e+00    3.918751e+00  \n",
       "min              0.000000e+00    0.000000e+00  \n",
       "25%              1.000000e+00    1.000000e+00  \n",
       "50%              1.000000e+00    1.000000e+00  \n",
       "75%              2.000000e+00    2.000000e+00  \n",
       "max              5.000000e+01    3.700000e+01  "
      ]
     },
     "execution_count": 98,
     "metadata": {},
     "output_type": "execute_result"
    }
   ],
   "source": [
    "ind.describe(include='all')"
   ]
  },
  {
   "cell_type": "code",
   "execution_count": 101,
   "metadata": {},
   "outputs": [
    {
     "name": "stdout",
     "output_type": "stream",
     "text": [
      "Number of unique ages by inventor:\n",
      "1.0    0.568640\n",
      "0.0    0.172051\n",
      ">=5    0.101502\n",
      "2.0    0.100101\n",
      "3.0    0.036750\n",
      "4.0    0.020956\n",
      "Name: nb_unique_ages_t, dtype: float64\n"
     ]
    }
   ],
   "source": [
    "ind['nb_unique_ages_t'] = np.where(ind['nb_unique_ages']<5, ind['nb_unique_ages'].apply(lambda x: str(x)), \">=5\")\n",
    "print(\"Number of unique ages by inventor:\")\n",
    "print(ind['nb_unique_ages_t'].value_counts(normalize=True))\n",
    "del ind['nb_unique_ages_t']"
   ]
  },
  {
   "cell_type": "markdown",
   "metadata": {},
   "source": [
    "### Assign Unique Age to Individual ID"
   ]
  },
  {
   "cell_type": "code",
   "execution_count": 83,
   "metadata": {},
   "outputs": [],
   "source": [
    "ind_id_age = ind.groupby(['inventor_id', 'age'])['match_count'].sum().reset_index()\n",
    "ind_id_age = ind_id_age.sort_values(['inventor_id', 'match_count'], ascending=[True, False])\n",
    "ind_id_age = ind_id_age.drop_duplicates(['inventor_id'], keep='first')\n",
    "\n",
    "# Merge to unique list of Individual IDs\n",
    "unique_inds = ind[['inventor_id', 'first_name', 'middle_name', 'last_name']].drop_duplicates()\n",
    "ind_id_age = pd.merge(unique_inds, ind_id_age, how='left', on='inventor_id')"
   ]
  },
  {
   "cell_type": "code",
   "execution_count": 84,
   "metadata": {},
   "outputs": [
    {
     "data": {
      "text/html": [
       "<div>\n",
       "<style scoped>\n",
       "    .dataframe tbody tr th:only-of-type {\n",
       "        vertical-align: middle;\n",
       "    }\n",
       "\n",
       "    .dataframe tbody tr th {\n",
       "        vertical-align: top;\n",
       "    }\n",
       "\n",
       "    .dataframe thead th {\n",
       "        text-align: right;\n",
       "    }\n",
       "</style>\n",
       "<table border=\"1\" class=\"dataframe\">\n",
       "  <thead>\n",
       "    <tr style=\"text-align: right;\">\n",
       "      <th></th>\n",
       "      <th>inventor_id</th>\n",
       "      <th>first_name</th>\n",
       "      <th>middle_name</th>\n",
       "      <th>last_name</th>\n",
       "      <th>age</th>\n",
       "      <th>match_count</th>\n",
       "    </tr>\n",
       "  </thead>\n",
       "  <tbody>\n",
       "    <tr>\n",
       "      <th>0</th>\n",
       "      <td>3930274-1</td>\n",
       "      <td>HAROLD</td>\n",
       "      <td>A.</td>\n",
       "      <td>SYFRITT</td>\n",
       "      <td>79.0</td>\n",
       "      <td>2.0</td>\n",
       "    </tr>\n",
       "    <tr>\n",
       "      <th>1</th>\n",
       "      <td>3930275-1</td>\n",
       "      <td>RICHARD</td>\n",
       "      <td>NaN</td>\n",
       "      <td>BAILIN</td>\n",
       "      <td>91.0</td>\n",
       "      <td>1.0</td>\n",
       "    </tr>\n",
       "    <tr>\n",
       "      <th>2</th>\n",
       "      <td>3930276-1</td>\n",
       "      <td>RUSSEL</td>\n",
       "      <td>A.</td>\n",
       "      <td>VAN BRAKEL</td>\n",
       "      <td>81.0</td>\n",
       "      <td>2.0</td>\n",
       "    </tr>\n",
       "    <tr>\n",
       "      <th>3</th>\n",
       "      <td>3930277-1</td>\n",
       "      <td>RICHARD</td>\n",
       "      <td>F.</td>\n",
       "      <td>WULFF</td>\n",
       "      <td>80.0</td>\n",
       "      <td>5.0</td>\n",
       "    </tr>\n",
       "    <tr>\n",
       "      <th>4</th>\n",
       "      <td>3930278-1</td>\n",
       "      <td>RICHARD</td>\n",
       "      <td>A.</td>\n",
       "      <td>NASCA</td>\n",
       "      <td>87.0</td>\n",
       "      <td>3.0</td>\n",
       "    </tr>\n",
       "  </tbody>\n",
       "</table>\n",
       "</div>"
      ],
      "text/plain": [
       "  inventor_id first_name middle_name   last_name   age  match_count\n",
       "0   3930274-1     HAROLD          A.     SYFRITT  79.0          2.0\n",
       "1   3930275-1    RICHARD         NaN      BAILIN  91.0          1.0\n",
       "2   3930276-1     RUSSEL          A.  VAN BRAKEL  81.0          2.0\n",
       "3   3930277-1    RICHARD          F.       WULFF  80.0          5.0\n",
       "4   3930278-1    RICHARD          A.       NASCA  87.0          3.0"
      ]
     },
     "execution_count": 84,
     "metadata": {},
     "output_type": "execute_result"
    }
   ],
   "source": [
    "ind_id_age.head()"
   ]
  },
  {
   "cell_type": "code",
   "execution_count": 85,
   "metadata": {},
   "outputs": [
    {
     "data": {
      "text/html": [
       "<div>\n",
       "<style scoped>\n",
       "    .dataframe tbody tr th:only-of-type {\n",
       "        vertical-align: middle;\n",
       "    }\n",
       "\n",
       "    .dataframe tbody tr th {\n",
       "        vertical-align: top;\n",
       "    }\n",
       "\n",
       "    .dataframe thead th {\n",
       "        text-align: right;\n",
       "    }\n",
       "</style>\n",
       "<table border=\"1\" class=\"dataframe\">\n",
       "  <thead>\n",
       "    <tr style=\"text-align: right;\">\n",
       "      <th></th>\n",
       "      <th>inventor_id</th>\n",
       "      <th>first_name</th>\n",
       "      <th>middle_name</th>\n",
       "      <th>last_name</th>\n",
       "      <th>age</th>\n",
       "      <th>match_count</th>\n",
       "    </tr>\n",
       "  </thead>\n",
       "  <tbody>\n",
       "    <tr>\n",
       "      <th>count</th>\n",
       "      <td>1796830</td>\n",
       "      <td>1796754</td>\n",
       "      <td>1278672</td>\n",
       "      <td>1796733</td>\n",
       "      <td>1.494904e+06</td>\n",
       "      <td>1.494904e+06</td>\n",
       "    </tr>\n",
       "    <tr>\n",
       "      <th>unique</th>\n",
       "      <td>1796830</td>\n",
       "      <td>85489</td>\n",
       "      <td>27940</td>\n",
       "      <td>355369</td>\n",
       "      <td>NaN</td>\n",
       "      <td>NaN</td>\n",
       "    </tr>\n",
       "    <tr>\n",
       "      <th>top</th>\n",
       "      <td>8754633-2</td>\n",
       "      <td>JOHN</td>\n",
       "      <td>J.</td>\n",
       "      <td>SMITH</td>\n",
       "      <td>NaN</td>\n",
       "      <td>NaN</td>\n",
       "    </tr>\n",
       "    <tr>\n",
       "      <th>freq</th>\n",
       "      <td>1</td>\n",
       "      <td>59092</td>\n",
       "      <td>110732</td>\n",
       "      <td>8210</td>\n",
       "      <td>NaN</td>\n",
       "      <td>NaN</td>\n",
       "    </tr>\n",
       "    <tr>\n",
       "      <th>mean</th>\n",
       "      <td>NaN</td>\n",
       "      <td>NaN</td>\n",
       "      <td>NaN</td>\n",
       "      <td>NaN</td>\n",
       "      <td>6.002239e+01</td>\n",
       "      <td>1.497659e+00</td>\n",
       "    </tr>\n",
       "    <tr>\n",
       "      <th>std</th>\n",
       "      <td>NaN</td>\n",
       "      <td>NaN</td>\n",
       "      <td>NaN</td>\n",
       "      <td>NaN</td>\n",
       "      <td>1.535876e+01</td>\n",
       "      <td>1.015337e+00</td>\n",
       "    </tr>\n",
       "    <tr>\n",
       "      <th>min</th>\n",
       "      <td>NaN</td>\n",
       "      <td>NaN</td>\n",
       "      <td>NaN</td>\n",
       "      <td>NaN</td>\n",
       "      <td>1.800000e+01</td>\n",
       "      <td>1.000000e+00</td>\n",
       "    </tr>\n",
       "    <tr>\n",
       "      <th>25%</th>\n",
       "      <td>NaN</td>\n",
       "      <td>NaN</td>\n",
       "      <td>NaN</td>\n",
       "      <td>NaN</td>\n",
       "      <td>4.900000e+01</td>\n",
       "      <td>1.000000e+00</td>\n",
       "    </tr>\n",
       "    <tr>\n",
       "      <th>50%</th>\n",
       "      <td>NaN</td>\n",
       "      <td>NaN</td>\n",
       "      <td>NaN</td>\n",
       "      <td>NaN</td>\n",
       "      <td>5.800000e+01</td>\n",
       "      <td>1.000000e+00</td>\n",
       "    </tr>\n",
       "    <tr>\n",
       "      <th>75%</th>\n",
       "      <td>NaN</td>\n",
       "      <td>NaN</td>\n",
       "      <td>NaN</td>\n",
       "      <td>NaN</td>\n",
       "      <td>6.900000e+01</td>\n",
       "      <td>2.000000e+00</td>\n",
       "    </tr>\n",
       "    <tr>\n",
       "      <th>max</th>\n",
       "      <td>NaN</td>\n",
       "      <td>NaN</td>\n",
       "      <td>NaN</td>\n",
       "      <td>NaN</td>\n",
       "      <td>1.380000e+02</td>\n",
       "      <td>1.000000e+02</td>\n",
       "    </tr>\n",
       "  </tbody>\n",
       "</table>\n",
       "</div>"
      ],
      "text/plain": [
       "       inventor_id first_name middle_name last_name           age  \\\n",
       "count      1796830    1796754     1278672   1796733  1.494904e+06   \n",
       "unique     1796830      85489       27940    355369           NaN   \n",
       "top      8754633-2       JOHN          J.     SMITH           NaN   \n",
       "freq             1      59092      110732      8210           NaN   \n",
       "mean           NaN        NaN         NaN       NaN  6.002239e+01   \n",
       "std            NaN        NaN         NaN       NaN  1.535876e+01   \n",
       "min            NaN        NaN         NaN       NaN  1.800000e+01   \n",
       "25%            NaN        NaN         NaN       NaN  4.900000e+01   \n",
       "50%            NaN        NaN         NaN       NaN  5.800000e+01   \n",
       "75%            NaN        NaN         NaN       NaN  6.900000e+01   \n",
       "max            NaN        NaN         NaN       NaN  1.380000e+02   \n",
       "\n",
       "         match_count  \n",
       "count   1.494904e+06  \n",
       "unique           NaN  \n",
       "top              NaN  \n",
       "freq             NaN  \n",
       "mean    1.497659e+00  \n",
       "std     1.015337e+00  \n",
       "min     1.000000e+00  \n",
       "25%     1.000000e+00  \n",
       "50%     1.000000e+00  \n",
       "75%     2.000000e+00  \n",
       "max     1.000000e+02  "
      ]
     },
     "execution_count": 85,
     "metadata": {},
     "output_type": "execute_result"
    }
   ],
   "source": [
    "ind_id_age.describe(include='all')"
   ]
  },
  {
   "cell_type": "code",
   "execution_count": 87,
   "metadata": {},
   "outputs": [],
   "source": [
    "ind_id_age.to_csv('../output/ind_age.csv', index=False)"
   ]
  },
  {
   "cell_type": "markdown",
   "metadata": {},
   "source": [
    "## Sandbox"
   ]
  },
  {
   "cell_type": "code",
   "execution_count": null,
   "metadata": {},
   "outputs": [],
   "source": []
  }
 ],
 "metadata": {
  "kernelspec": {
   "display_name": "Python 3",
   "language": "python",
   "name": "python3"
  },
  "language_info": {
   "codemirror_mode": {
    "name": "ipython",
    "version": 3
   },
   "file_extension": ".py",
   "mimetype": "text/x-python",
   "name": "python",
   "nbconvert_exporter": "python",
   "pygments_lexer": "ipython3",
   "version": "3.6.2"
  },
  "toc": {
   "nav_menu": {},
   "number_sections": false,
   "sideBar": true,
   "skip_h1_title": false,
   "title_cell": "Table of Contents",
   "title_sidebar": "Contents",
   "toc_cell": false,
   "toc_position": {
    "height": "calc(100% - 180px)",
    "left": "10px",
    "top": "150px",
    "width": "210px"
   },
   "toc_section_display": true,
   "toc_window_display": true
  }
 },
 "nbformat": 4,
 "nbformat_minor": 2
}
