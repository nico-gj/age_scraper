{
 "cells": [
  {
   "cell_type": "markdown",
   "metadata": {},
   "source": [
    "# Scraping Researcher Ages on Veromi"
   ]
  },
  {
   "cell_type": "markdown",
   "metadata": {},
   "source": [
    "## Python Setup"
   ]
  },
  {
   "cell_type": "code",
   "execution_count": 2,
   "metadata": {},
   "outputs": [],
   "source": [
    "from multiprocessing import Pool\n",
    "import multiprocessing\n",
    "import pandas as pd\n",
    "import numpy as np\n",
    "import requests\n",
    "from bs4 import BeautifulSoup\n",
    "import unidecode\n",
    "from veromi_query import query"
   ]
  },
  {
   "cell_type": "markdown",
   "metadata": {},
   "source": [
    "## List of Individuals"
   ]
  },
  {
   "cell_type": "markdown",
   "metadata": {},
   "source": [
    "Let's load in the list of individuals for whom we want to scrape the age. This list already has a unique ID variable per inventor."
   ]
  },
  {
   "cell_type": "code",
   "execution_count": 3,
   "metadata": {},
   "outputs": [],
   "source": [
    "ind = pd.read_csv('../data/raw/individuals_info.csv', low_memory=False)"
   ]
  },
  {
   "cell_type": "code",
   "execution_count": 4,
   "metadata": {},
   "outputs": [],
   "source": [
    "# Dataset specific renaming:\n",
    "ind.rename(columns={'inventor_id':'id'}, inplace = True)\n",
    "# If there is no ID per individual, create one now."
   ]
  },
  {
   "cell_type": "code",
   "execution_count": 5,
   "metadata": {},
   "outputs": [],
   "source": [
    "ind = ind[['id', 'first_name', 'middle_name', 'last_name', 'city', 'state', 'country']]\n",
    "ind = ind.drop_duplicates().reset_index(drop=True)"
   ]
  },
  {
   "cell_type": "code",
   "execution_count": 6,
   "metadata": {},
   "outputs": [
    {
     "data": {
      "text/html": [
       "<div>\n",
       "<style scoped>\n",
       "    .dataframe tbody tr th:only-of-type {\n",
       "        vertical-align: middle;\n",
       "    }\n",
       "\n",
       "    .dataframe tbody tr th {\n",
       "        vertical-align: top;\n",
       "    }\n",
       "\n",
       "    .dataframe thead th {\n",
       "        text-align: right;\n",
       "    }\n",
       "</style>\n",
       "<table border=\"1\" class=\"dataframe\">\n",
       "  <thead>\n",
       "    <tr style=\"text-align: right;\">\n",
       "      <th></th>\n",
       "      <th>id</th>\n",
       "      <th>first_name</th>\n",
       "      <th>middle_name</th>\n",
       "      <th>last_name</th>\n",
       "      <th>city</th>\n",
       "      <th>state</th>\n",
       "      <th>country</th>\n",
       "    </tr>\n",
       "  </thead>\n",
       "  <tbody>\n",
       "    <tr>\n",
       "      <th>count</th>\n",
       "      <td>3551945</td>\n",
       "      <td>3551829</td>\n",
       "      <td>1561853</td>\n",
       "      <td>3551925</td>\n",
       "      <td>3551212</td>\n",
       "      <td>1564618</td>\n",
       "      <td>3551929</td>\n",
       "    </tr>\n",
       "    <tr>\n",
       "      <th>unique</th>\n",
       "      <td>2567867</td>\n",
       "      <td>156155</td>\n",
       "      <td>37258</td>\n",
       "      <td>504081</td>\n",
       "      <td>235614</td>\n",
       "      <td>61</td>\n",
       "      <td>256</td>\n",
       "    </tr>\n",
       "    <tr>\n",
       "      <th>top</th>\n",
       "      <td>4477144-1</td>\n",
       "      <td>Michael</td>\n",
       "      <td>J.</td>\n",
       "      <td>Lee</td>\n",
       "      <td>Tokyo</td>\n",
       "      <td>CA</td>\n",
       "      <td>US</td>\n",
       "    </tr>\n",
       "    <tr>\n",
       "      <th>freq</th>\n",
       "      <td>179</td>\n",
       "      <td>62630</td>\n",
       "      <td>120910</td>\n",
       "      <td>28861</td>\n",
       "      <td>85784</td>\n",
       "      <td>309247</td>\n",
       "      <td>1566090</td>\n",
       "    </tr>\n",
       "  </tbody>\n",
       "</table>\n",
       "</div>"
      ],
      "text/plain": [
       "               id first_name middle_name last_name     city    state  country\n",
       "count     3551945    3551829     1561853   3551925  3551212  1564618  3551929\n",
       "unique    2567867     156155       37258    504081   235614       61      256\n",
       "top     4477144-1    Michael          J.       Lee    Tokyo       CA       US\n",
       "freq          179      62630      120910     28861    85784   309247  1566090"
      ]
     },
     "execution_count": 6,
     "metadata": {},
     "output_type": "execute_result"
    }
   ],
   "source": [
    "ind.describe(include='all')"
   ]
  },
  {
   "cell_type": "code",
   "execution_count": 7,
   "metadata": {},
   "outputs": [],
   "source": [
    "ind = ind[ind['country']==\"US\"].reset_index(drop=True)"
   ]
  },
  {
   "cell_type": "code",
   "execution_count": 8,
   "metadata": {},
   "outputs": [
    {
     "data": {
      "text/html": [
       "<div>\n",
       "<style scoped>\n",
       "    .dataframe tbody tr th:only-of-type {\n",
       "        vertical-align: middle;\n",
       "    }\n",
       "\n",
       "    .dataframe tbody tr th {\n",
       "        vertical-align: top;\n",
       "    }\n",
       "\n",
       "    .dataframe thead th {\n",
       "        text-align: right;\n",
       "    }\n",
       "</style>\n",
       "<table border=\"1\" class=\"dataframe\">\n",
       "  <thead>\n",
       "    <tr style=\"text-align: right;\">\n",
       "      <th></th>\n",
       "      <th>id</th>\n",
       "      <th>first_name</th>\n",
       "      <th>middle_name</th>\n",
       "      <th>last_name</th>\n",
       "      <th>city</th>\n",
       "      <th>state</th>\n",
       "      <th>country</th>\n",
       "    </tr>\n",
       "  </thead>\n",
       "  <tbody>\n",
       "    <tr>\n",
       "      <th>count</th>\n",
       "      <td>1566090</td>\n",
       "      <td>1566043</td>\n",
       "      <td>1143673</td>\n",
       "      <td>1566074</td>\n",
       "      <td>1565405</td>\n",
       "      <td>1564612</td>\n",
       "      <td>1566090</td>\n",
       "    </tr>\n",
       "    <tr>\n",
       "      <th>unique</th>\n",
       "      <td>1241107</td>\n",
       "      <td>69676</td>\n",
       "      <td>21621</td>\n",
       "      <td>287966</td>\n",
       "      <td>40499</td>\n",
       "      <td>61</td>\n",
       "      <td>1</td>\n",
       "    </tr>\n",
       "    <tr>\n",
       "      <th>top</th>\n",
       "      <td>5766379-2</td>\n",
       "      <td>John</td>\n",
       "      <td>J.</td>\n",
       "      <td>Smith</td>\n",
       "      <td>San Jose</td>\n",
       "      <td>CA</td>\n",
       "      <td>US</td>\n",
       "    </tr>\n",
       "    <tr>\n",
       "      <th>freq</th>\n",
       "      <td>51</td>\n",
       "      <td>51352</td>\n",
       "      <td>101215</td>\n",
       "      <td>7999</td>\n",
       "      <td>25232</td>\n",
       "      <td>309245</td>\n",
       "      <td>1566090</td>\n",
       "    </tr>\n",
       "  </tbody>\n",
       "</table>\n",
       "</div>"
      ],
      "text/plain": [
       "               id first_name middle_name last_name      city    state  country\n",
       "count     1566090    1566043     1143673   1566074   1565405  1564612  1566090\n",
       "unique    1241107      69676       21621    287966     40499       61        1\n",
       "top     5766379-2       John          J.     Smith  San Jose       CA       US\n",
       "freq           51      51352      101215      7999     25232   309245  1566090"
      ]
     },
     "execution_count": 8,
     "metadata": {},
     "output_type": "execute_result"
    }
   ],
   "source": [
    "ind.describe(include='all')"
   ]
  },
  {
   "cell_type": "markdown",
   "metadata": {},
   "source": [
    "### Data Cleanup"
   ]
  },
  {
   "cell_type": "code",
   "execution_count": 9,
   "metadata": {},
   "outputs": [],
   "source": [
    "string_vars = ['first_name', 'middle_name', 'last_name', 'city', 'state', 'country']\n",
    "for var in string_vars:\n",
    "    ind[var] = ind[var].str.upper().str.strip().fillna('')"
   ]
  },
  {
   "cell_type": "markdown",
   "metadata": {},
   "source": [
    "### Export to CSV"
   ]
  },
  {
   "cell_type": "code",
   "execution_count": 10,
   "metadata": {},
   "outputs": [],
   "source": [
    "ind.to_csv('../data/individuals_clean.csv', index=False)"
   ]
  },
  {
   "cell_type": "code",
   "execution_count": 11,
   "metadata": {},
   "outputs": [],
   "source": [
    "ind.head(10000).to_csv('../data/individuals_clean_sample.csv', index=False)"
   ]
  },
  {
   "cell_type": "markdown",
   "metadata": {},
   "source": [
    "## Scrape Profiles"
   ]
  },
  {
   "cell_type": "markdown",
   "metadata": {},
   "source": [
    "__Run `scraper.py` code.__"
   ]
  },
  {
   "cell_type": "code",
   "execution_count": 12,
   "metadata": {},
   "outputs": [],
   "source": [
    "# !python scraper.py"
   ]
  },
  {
   "cell_type": "markdown",
   "metadata": {},
   "source": [
    "Depending on the size of your data, you might want to alter the age_scraper code."
   ]
  },
  {
   "cell_type": "markdown",
   "metadata": {},
   "source": [
    "The following code works for a limited number of queries.\n",
    "```\n",
    "import pandas as pd\n",
    "from veromi_query import query\n",
    "\n",
    "# Load in data:\n",
    "ind = pd.read_csv('../data/ind_clean.csv', low_memory=False)\n",
    "ind = ind.fillna('')\n",
    "\n",
    "# Query Veromi:\n",
    "profiles = query([[0, ind, ind.shape[0]])\n",
    "\n",
    "# Export to CSV:\n",
    "profiles.to_csv('../output/scraper_output/individuals_clean_ages.csv', index=False)\n",
    "```"
   ]
  },
  {
   "cell_type": "markdown",
   "metadata": {},
   "source": [
    "When running a large number of queries, I adapt the code for parallelization. Here is the example for 3 parallel tasks.\n",
    "```\n",
    "from multiprocessing import Pool\n",
    "import multiprocessing\n",
    "import pandas as pd\n",
    "from veromi_query import query\n",
    "\n",
    "# Load in data:\n",
    "ind = pd.read_csv('../data/ind_clean.csv', low_memory=False)\n",
    "ind = ind.fillna('')\n",
    "\n",
    "# Define Pool:\n",
    "pool = Pool(processes=3)\n",
    "\n",
    "# Run query for the job:\n",
    "profiles0 = pool.apply_async(query, [[0, ind, 1000000]])\n",
    "profiles1 = pool.apply_async(query, [[1, ind, 1000000]])\n",
    "profiles2 = pool.apply_async(query, [[2, ind, 1000000]])\n",
    "profiles0 = profiles0.get()\n",
    "profiles1 = profiles1.get()\n",
    "profiles2 = profiles2.get()\n",
    "\n",
    "# Combine Frames:\n",
    "frames = [profiles0, profiles1, profiles2]\n",
    "\n",
    "profiles = pd.concat(frames).reset_index(drop=True)\n",
    "\n",
    "# Export results as CSV\n",
    "profiles.to_csv('../output/scraper_output/individuals_clean_ages.csv', index=False)\n",
    "```\n",
    "For this project, I used a clustered computing system and 100 parallel tasks."
   ]
  },
  {
   "cell_type": "markdown",
   "metadata": {},
   "source": [
    "## Parse Age from Data"
   ]
  },
  {
   "cell_type": "code",
   "execution_count": 12,
   "metadata": {},
   "outputs": [],
   "source": [
    "# Load in entire dataset\n",
    "profiles = pd.read_csv('../output/scraper_output/individuals_clean_ages.csv', low_memory=True)"
   ]
  },
  {
   "cell_type": "code",
   "execution_count": 13,
   "metadata": {},
   "outputs": [
    {
     "data": {
      "text/html": [
       "<div>\n",
       "<style scoped>\n",
       "    .dataframe tbody tr th:only-of-type {\n",
       "        vertical-align: middle;\n",
       "    }\n",
       "\n",
       "    .dataframe tbody tr th {\n",
       "        vertical-align: top;\n",
       "    }\n",
       "\n",
       "    .dataframe thead th {\n",
       "        text-align: right;\n",
       "    }\n",
       "</style>\n",
       "<table border=\"1\" class=\"dataframe\">\n",
       "  <thead>\n",
       "    <tr style=\"text-align: right;\">\n",
       "      <th></th>\n",
       "      <th>id</th>\n",
       "      <th>name</th>\n",
       "    </tr>\n",
       "  </thead>\n",
       "  <tbody>\n",
       "    <tr>\n",
       "      <th>0</th>\n",
       "      <td>0.0</td>\n",
       "      <td>SYFRITT, HAROLD ARTHUR (Age 79)</td>\n",
       "    </tr>\n",
       "    <tr>\n",
       "      <th>1</th>\n",
       "      <td>1.0</td>\n",
       "      <td>SYFRITT, HAROLD ARTHUR (Age 79)</td>\n",
       "    </tr>\n",
       "    <tr>\n",
       "      <th>2</th>\n",
       "      <td>2.0</td>\n",
       "      <td>BAILIN, RICHARD C (Age 91)</td>\n",
       "    </tr>\n",
       "    <tr>\n",
       "      <th>3</th>\n",
       "      <td>2.0</td>\n",
       "      <td>BAILIN, RICHARD</td>\n",
       "    </tr>\n",
       "    <tr>\n",
       "      <th>4</th>\n",
       "      <td>3.0</td>\n",
       "      <td>VANBRAKEL, RUSSEL A (Age 81)</td>\n",
       "    </tr>\n",
       "  </tbody>\n",
       "</table>\n",
       "</div>"
      ],
      "text/plain": [
       "    id                             name\n",
       "0  0.0  SYFRITT, HAROLD ARTHUR (Age 79)\n",
       "1  1.0  SYFRITT, HAROLD ARTHUR (Age 79)\n",
       "2  2.0       BAILIN, RICHARD C (Age 91)\n",
       "3  2.0                 BAILIN, RICHARD \n",
       "4  3.0     VANBRAKEL, RUSSEL A (Age 81)"
      ]
     },
     "execution_count": 13,
     "metadata": {},
     "output_type": "execute_result"
    }
   ],
   "source": [
    "profiles.head()"
   ]
  },
  {
   "cell_type": "code",
   "execution_count": 14,
   "metadata": {},
   "outputs": [],
   "source": [
    "profiles['age'] = profiles['name'].str.extract(r'(\\(Age\\s\\d+\\))', expand=True)\n",
    "profiles['age'] = pd.to_numeric(profiles['age'].str.extract(r'(\\d+)', expand=False))"
   ]
  },
  {
   "cell_type": "markdown",
   "metadata": {},
   "source": [
    "For now, let's keep the most common age associated to a given Individual\\*Location ID. This also gets rid on `NaN` values."
   ]
  },
  {
   "cell_type": "code",
   "execution_count": 15,
   "metadata": {},
   "outputs": [],
   "source": [
    "age_lookup = profiles.groupby(['id', 'age']).size().reset_index().rename(columns={0: 'match_count'})\n",
    "age_lookup = age_lookup.sort_values(['id', 'match_count'], ascending=[True, False])\n",
    "age_lookup = age_lookup.drop_duplicates('id', keep='first')"
   ]
  },
  {
   "cell_type": "markdown",
   "metadata": {},
   "source": [
    "Let's also collect some matching stats."
   ]
  },
  {
   "cell_type": "code",
   "execution_count": 16,
   "metadata": {},
   "outputs": [],
   "source": [
    "matching_stats = profiles.groupby(['id'])\n",
    "matching_stats = pd.DataFrame({'nb_matches': matching_stats.size(),\n",
    "                               'nb_matches_with_age': matching_stats['age'].count(),\n",
    "                               'nb_unique_ages': matching_stats['age'].nunique()\n",
    "                              }).reset_index()"
   ]
  },
  {
   "cell_type": "markdown",
   "metadata": {},
   "source": [
    "## Merge back onto the Original Data of Individuals\\*Locations"
   ]
  },
  {
   "cell_type": "code",
   "execution_count": 20,
   "metadata": {},
   "outputs": [],
   "source": [
    "ind = pd.read_csv('../data/ind_clean.csv')"
   ]
  },
  {
   "cell_type": "code",
   "execution_count": 21,
   "metadata": {},
   "outputs": [],
   "source": [
    "ind = pd.merge(ind, age_lookup, how='left', on='id')\n",
    "ind = pd.merge(ind, matching_stats, how='left', on='id')\n",
    "ind['nb_matches'].fillna(0, inplace=True)\n",
    "ind['nb_matches_with_age'].fillna(0, inplace=True)\n",
    "ind['nb_unique_ages'].fillna(0, inplace=True)"
   ]
  },
  {
   "cell_type": "code",
   "execution_count": 22,
   "metadata": {},
   "outputs": [
    {
     "data": {
      "text/html": [
       "<div>\n",
       "<style scoped>\n",
       "    .dataframe tbody tr th:only-of-type {\n",
       "        vertical-align: middle;\n",
       "    }\n",
       "\n",
       "    .dataframe tbody tr th {\n",
       "        vertical-align: top;\n",
       "    }\n",
       "\n",
       "    .dataframe thead th {\n",
       "        text-align: right;\n",
       "    }\n",
       "</style>\n",
       "<table border=\"1\" class=\"dataframe\">\n",
       "  <thead>\n",
       "    <tr style=\"text-align: right;\">\n",
       "      <th></th>\n",
       "      <th>id</th>\n",
       "      <th>first_name</th>\n",
       "      <th>middle_name</th>\n",
       "      <th>last_name</th>\n",
       "      <th>city</th>\n",
       "      <th>state</th>\n",
       "      <th>country</th>\n",
       "      <th>age</th>\n",
       "      <th>match_count</th>\n",
       "      <th>nb_matches</th>\n",
       "      <th>nb_matches_with_age</th>\n",
       "      <th>nb_unique_ages</th>\n",
       "    </tr>\n",
       "  </thead>\n",
       "  <tbody>\n",
       "    <tr>\n",
       "      <th>count</th>\n",
       "      <td>2266802</td>\n",
       "      <td>2266711</td>\n",
       "      <td>1637791</td>\n",
       "      <td>2266688</td>\n",
       "      <td>2265349</td>\n",
       "      <td>2264690</td>\n",
       "      <td>2266802</td>\n",
       "      <td>0.0</td>\n",
       "      <td>0.0</td>\n",
       "      <td>2266802.0</td>\n",
       "      <td>2266802.0</td>\n",
       "      <td>2266802.0</td>\n",
       "    </tr>\n",
       "    <tr>\n",
       "      <th>unique</th>\n",
       "      <td>1796830</td>\n",
       "      <td>85489</td>\n",
       "      <td>27940</td>\n",
       "      <td>355369</td>\n",
       "      <td>22125</td>\n",
       "      <td>61</td>\n",
       "      <td>1</td>\n",
       "      <td>NaN</td>\n",
       "      <td>NaN</td>\n",
       "      <td>NaN</td>\n",
       "      <td>NaN</td>\n",
       "      <td>NaN</td>\n",
       "    </tr>\n",
       "    <tr>\n",
       "      <th>top</th>\n",
       "      <td>5766379-2</td>\n",
       "      <td>JOHN</td>\n",
       "      <td>J.</td>\n",
       "      <td>SMITH</td>\n",
       "      <td>SAN JOSE</td>\n",
       "      <td>CA</td>\n",
       "      <td>US</td>\n",
       "      <td>NaN</td>\n",
       "      <td>NaN</td>\n",
       "      <td>NaN</td>\n",
       "      <td>NaN</td>\n",
       "      <td>NaN</td>\n",
       "    </tr>\n",
       "    <tr>\n",
       "      <th>freq</th>\n",
       "      <td>67</td>\n",
       "      <td>78303</td>\n",
       "      <td>142609</td>\n",
       "      <td>12895</td>\n",
       "      <td>33910</td>\n",
       "      <td>447839</td>\n",
       "      <td>2266802</td>\n",
       "      <td>NaN</td>\n",
       "      <td>NaN</td>\n",
       "      <td>NaN</td>\n",
       "      <td>NaN</td>\n",
       "      <td>NaN</td>\n",
       "    </tr>\n",
       "    <tr>\n",
       "      <th>mean</th>\n",
       "      <td>NaN</td>\n",
       "      <td>NaN</td>\n",
       "      <td>NaN</td>\n",
       "      <td>NaN</td>\n",
       "      <td>NaN</td>\n",
       "      <td>NaN</td>\n",
       "      <td>NaN</td>\n",
       "      <td>NaN</td>\n",
       "      <td>NaN</td>\n",
       "      <td>0.0</td>\n",
       "      <td>0.0</td>\n",
       "      <td>0.0</td>\n",
       "    </tr>\n",
       "    <tr>\n",
       "      <th>std</th>\n",
       "      <td>NaN</td>\n",
       "      <td>NaN</td>\n",
       "      <td>NaN</td>\n",
       "      <td>NaN</td>\n",
       "      <td>NaN</td>\n",
       "      <td>NaN</td>\n",
       "      <td>NaN</td>\n",
       "      <td>NaN</td>\n",
       "      <td>NaN</td>\n",
       "      <td>0.0</td>\n",
       "      <td>0.0</td>\n",
       "      <td>0.0</td>\n",
       "    </tr>\n",
       "    <tr>\n",
       "      <th>min</th>\n",
       "      <td>NaN</td>\n",
       "      <td>NaN</td>\n",
       "      <td>NaN</td>\n",
       "      <td>NaN</td>\n",
       "      <td>NaN</td>\n",
       "      <td>NaN</td>\n",
       "      <td>NaN</td>\n",
       "      <td>NaN</td>\n",
       "      <td>NaN</td>\n",
       "      <td>0.0</td>\n",
       "      <td>0.0</td>\n",
       "      <td>0.0</td>\n",
       "    </tr>\n",
       "    <tr>\n",
       "      <th>25%</th>\n",
       "      <td>NaN</td>\n",
       "      <td>NaN</td>\n",
       "      <td>NaN</td>\n",
       "      <td>NaN</td>\n",
       "      <td>NaN</td>\n",
       "      <td>NaN</td>\n",
       "      <td>NaN</td>\n",
       "      <td>NaN</td>\n",
       "      <td>NaN</td>\n",
       "      <td>0.0</td>\n",
       "      <td>0.0</td>\n",
       "      <td>0.0</td>\n",
       "    </tr>\n",
       "    <tr>\n",
       "      <th>50%</th>\n",
       "      <td>NaN</td>\n",
       "      <td>NaN</td>\n",
       "      <td>NaN</td>\n",
       "      <td>NaN</td>\n",
       "      <td>NaN</td>\n",
       "      <td>NaN</td>\n",
       "      <td>NaN</td>\n",
       "      <td>NaN</td>\n",
       "      <td>NaN</td>\n",
       "      <td>0.0</td>\n",
       "      <td>0.0</td>\n",
       "      <td>0.0</td>\n",
       "    </tr>\n",
       "    <tr>\n",
       "      <th>75%</th>\n",
       "      <td>NaN</td>\n",
       "      <td>NaN</td>\n",
       "      <td>NaN</td>\n",
       "      <td>NaN</td>\n",
       "      <td>NaN</td>\n",
       "      <td>NaN</td>\n",
       "      <td>NaN</td>\n",
       "      <td>NaN</td>\n",
       "      <td>NaN</td>\n",
       "      <td>0.0</td>\n",
       "      <td>0.0</td>\n",
       "      <td>0.0</td>\n",
       "    </tr>\n",
       "    <tr>\n",
       "      <th>max</th>\n",
       "      <td>NaN</td>\n",
       "      <td>NaN</td>\n",
       "      <td>NaN</td>\n",
       "      <td>NaN</td>\n",
       "      <td>NaN</td>\n",
       "      <td>NaN</td>\n",
       "      <td>NaN</td>\n",
       "      <td>NaN</td>\n",
       "      <td>NaN</td>\n",
       "      <td>0.0</td>\n",
       "      <td>0.0</td>\n",
       "      <td>0.0</td>\n",
       "    </tr>\n",
       "  </tbody>\n",
       "</table>\n",
       "</div>"
      ],
      "text/plain": [
       "               id first_name middle_name last_name      city    state  \\\n",
       "count     2266802    2266711     1637791   2266688   2265349  2264690   \n",
       "unique    1796830      85489       27940    355369     22125       61   \n",
       "top     5766379-2       JOHN          J.     SMITH  SAN JOSE       CA   \n",
       "freq           67      78303      142609     12895     33910   447839   \n",
       "mean          NaN        NaN         NaN       NaN       NaN      NaN   \n",
       "std           NaN        NaN         NaN       NaN       NaN      NaN   \n",
       "min           NaN        NaN         NaN       NaN       NaN      NaN   \n",
       "25%           NaN        NaN         NaN       NaN       NaN      NaN   \n",
       "50%           NaN        NaN         NaN       NaN       NaN      NaN   \n",
       "75%           NaN        NaN         NaN       NaN       NaN      NaN   \n",
       "max           NaN        NaN         NaN       NaN       NaN      NaN   \n",
       "\n",
       "        country  age  match_count  nb_matches  nb_matches_with_age  \\\n",
       "count   2266802  0.0          0.0   2266802.0            2266802.0   \n",
       "unique        1  NaN          NaN         NaN                  NaN   \n",
       "top          US  NaN          NaN         NaN                  NaN   \n",
       "freq    2266802  NaN          NaN         NaN                  NaN   \n",
       "mean        NaN  NaN          NaN         0.0                  0.0   \n",
       "std         NaN  NaN          NaN         0.0                  0.0   \n",
       "min         NaN  NaN          NaN         0.0                  0.0   \n",
       "25%         NaN  NaN          NaN         0.0                  0.0   \n",
       "50%         NaN  NaN          NaN         0.0                  0.0   \n",
       "75%         NaN  NaN          NaN         0.0                  0.0   \n",
       "max         NaN  NaN          NaN         0.0                  0.0   \n",
       "\n",
       "        nb_unique_ages  \n",
       "count        2266802.0  \n",
       "unique             NaN  \n",
       "top                NaN  \n",
       "freq               NaN  \n",
       "mean               0.0  \n",
       "std                0.0  \n",
       "min                0.0  \n",
       "25%                0.0  \n",
       "50%                0.0  \n",
       "75%                0.0  \n",
       "max                0.0  "
      ]
     },
     "execution_count": 22,
     "metadata": {},
     "output_type": "execute_result"
    }
   ],
   "source": [
    "ind.describe(include='all')"
   ]
  },
  {
   "cell_type": "code",
   "execution_count": 23,
   "metadata": {},
   "outputs": [
    {
     "name": "stdout",
     "output_type": "stream",
     "text": [
      "Number of unique ages by inventor:\n",
      "0.0    1.0\n",
      "Name: nb_unique_ages_t, dtype: float64\n"
     ]
    }
   ],
   "source": [
    "ind['nb_unique_ages_t'] = np.where(ind['nb_unique_ages']<5, ind['nb_unique_ages'].apply(lambda x: str(x)), \">=5\")\n",
    "print(\"Number of unique ages by inventor:\")\n",
    "print(ind['nb_unique_ages_t'].value_counts(normalize=True))\n",
    "del ind['nb_unique_ages_t']"
   ]
  },
  {
   "cell_type": "markdown",
   "metadata": {},
   "source": [
    "### Assign Unique Age to Individual ID"
   ]
  },
  {
   "cell_type": "code",
   "execution_count": null,
   "metadata": {},
   "outputs": [],
   "source": [
    "ind_id_age = ind.groupby(['id', 'age'])['match_count'].sum().reset_index()\n",
    "ind_id_age = ind_id_age.sort_values(['id', 'match_count'], ascending=[True, False])\n",
    "ind_id_age = ind_id_age.drop_duplicates(['id'], keep='first')\n",
    "\n",
    "# Merge to unique list of Individual IDs\n",
    "unique_inds = ind[['id', 'first_name', 'middle_name', 'last_name']].drop_duplicates()\n",
    "ind_id_age = pd.merge(unique_inds, ind_id_age, how='left', on='inventor_id')"
   ]
  },
  {
   "cell_type": "code",
   "execution_count": null,
   "metadata": {},
   "outputs": [],
   "source": [
    "ind_id_age.head()"
   ]
  },
  {
   "cell_type": "code",
   "execution_count": null,
   "metadata": {},
   "outputs": [],
   "source": [
    "ind_id_age.describe(include='all')"
   ]
  },
  {
   "cell_type": "code",
   "execution_count": null,
   "metadata": {},
   "outputs": [],
   "source": [
    "ind_id_age[['id', 'age']].to_csv('../output/ind_age.csv', index=False)"
   ]
  },
  {
   "cell_type": "markdown",
   "metadata": {},
   "source": [
    "## Sandbox"
   ]
  },
  {
   "cell_type": "code",
   "execution_count": null,
   "metadata": {},
   "outputs": [],
   "source": []
  }
 ],
 "metadata": {
  "kernelspec": {
   "display_name": "Python 3",
   "language": "python",
   "name": "python3"
  },
  "language_info": {
   "codemirror_mode": {
    "name": "ipython",
    "version": 3
   },
   "file_extension": ".py",
   "mimetype": "text/x-python",
   "name": "python",
   "nbconvert_exporter": "python",
   "pygments_lexer": "ipython3",
   "version": "3.6.2"
  },
  "toc": {
   "nav_menu": {},
   "number_sections": false,
   "sideBar": true,
   "skip_h1_title": false,
   "title_cell": "Table of Contents",
   "title_sidebar": "Contents",
   "toc_cell": false,
   "toc_position": {
    "height": "calc(100% - 180px)",
    "left": "10px",
    "top": "150px",
    "width": "210px"
   },
   "toc_section_display": true,
   "toc_window_display": true
  }
 },
 "nbformat": 4,
 "nbformat_minor": 2
}
