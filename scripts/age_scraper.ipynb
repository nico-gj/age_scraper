{
 "cells": [
  {
   "cell_type": "markdown",
   "metadata": {},
   "source": [
    "# Scraping Researcher Ages on Veromi"
   ]
  },
  {
   "cell_type": "markdown",
   "metadata": {},
   "source": [
    "## Python Setup"
   ]
  },
  {
   "cell_type": "code",
   "execution_count": 1,
   "metadata": {},
   "outputs": [],
   "source": [
    "from multiprocessing import Pool\n",
    "import multiprocessing\n",
    "import pandas as pd\n",
    "import numpy as np\n",
    "import requests\n",
    "from bs4 import BeautifulSoup\n",
    "import unidecode\n",
    "from veromi_query import query"
   ]
  },
  {
   "cell_type": "markdown",
   "metadata": {},
   "source": [
    "## List of Individuals"
   ]
  },
  {
   "cell_type": "markdown",
   "metadata": {},
   "source": [
    "Let's load in the list of individuals for whom we want to scrape the age. This list already has a unique ID variable per inventor."
   ]
  },
  {
   "cell_type": "code",
   "execution_count": 2,
   "metadata": {},
   "outputs": [],
   "source": [
    "ind = pd.read_csv('../data/raw/individuals_info.csv', low_memory=False)"
   ]
  },
  {
   "cell_type": "code",
   "execution_count": 3,
   "metadata": {},
   "outputs": [],
   "source": [
    "# Dataset specific renaming:\n",
    "ind.rename(columns={'inventor_id':'id'}, inplace = True)\n",
    "# If there is no ID per individual, create one now."
   ]
  },
  {
   "cell_type": "code",
   "execution_count": 4,
   "metadata": {},
   "outputs": [],
   "source": [
    "ind = ind[['id', 'first_name', 'middle_name', 'last_name', 'city', 'state', 'country']]\n",
    "ind = ind.drop_duplicates().reset_index(drop=True)"
   ]
  },
  {
   "cell_type": "code",
   "execution_count": 5,
   "metadata": {},
   "outputs": [
    {
     "data": {
      "text/html": [
       "<div>\n",
       "<style scoped>\n",
       "    .dataframe tbody tr th:only-of-type {\n",
       "        vertical-align: middle;\n",
       "    }\n",
       "\n",
       "    .dataframe tbody tr th {\n",
       "        vertical-align: top;\n",
       "    }\n",
       "\n",
       "    .dataframe thead th {\n",
       "        text-align: right;\n",
       "    }\n",
       "</style>\n",
       "<table border=\"1\" class=\"dataframe\">\n",
       "  <thead>\n",
       "    <tr style=\"text-align: right;\">\n",
       "      <th></th>\n",
       "      <th>id</th>\n",
       "      <th>first_name</th>\n",
       "      <th>middle_name</th>\n",
       "      <th>last_name</th>\n",
       "      <th>city</th>\n",
       "      <th>state</th>\n",
       "      <th>country</th>\n",
       "    </tr>\n",
       "  </thead>\n",
       "  <tbody>\n",
       "    <tr>\n",
       "      <th>count</th>\n",
       "      <td>3551945</td>\n",
       "      <td>3551829</td>\n",
       "      <td>1561853</td>\n",
       "      <td>3551925</td>\n",
       "      <td>3551212</td>\n",
       "      <td>1564618</td>\n",
       "      <td>3551929</td>\n",
       "    </tr>\n",
       "    <tr>\n",
       "      <th>unique</th>\n",
       "      <td>2567867</td>\n",
       "      <td>156155</td>\n",
       "      <td>37258</td>\n",
       "      <td>504081</td>\n",
       "      <td>235614</td>\n",
       "      <td>61</td>\n",
       "      <td>256</td>\n",
       "    </tr>\n",
       "    <tr>\n",
       "      <th>top</th>\n",
       "      <td>4477144-1</td>\n",
       "      <td>Michael</td>\n",
       "      <td>J.</td>\n",
       "      <td>Lee</td>\n",
       "      <td>Tokyo</td>\n",
       "      <td>CA</td>\n",
       "      <td>US</td>\n",
       "    </tr>\n",
       "    <tr>\n",
       "      <th>freq</th>\n",
       "      <td>179</td>\n",
       "      <td>62630</td>\n",
       "      <td>120910</td>\n",
       "      <td>28861</td>\n",
       "      <td>85784</td>\n",
       "      <td>309247</td>\n",
       "      <td>1566090</td>\n",
       "    </tr>\n",
       "  </tbody>\n",
       "</table>\n",
       "</div>"
      ],
      "text/plain": [
       "               id first_name middle_name last_name     city    state  country\n",
       "count     3551945    3551829     1561853   3551925  3551212  1564618  3551929\n",
       "unique    2567867     156155       37258    504081   235614       61      256\n",
       "top     4477144-1    Michael          J.       Lee    Tokyo       CA       US\n",
       "freq          179      62630      120910     28861    85784   309247  1566090"
      ]
     },
     "execution_count": 5,
     "metadata": {},
     "output_type": "execute_result"
    }
   ],
   "source": [
    "ind.describe(include='all')"
   ]
  },
  {
   "cell_type": "code",
   "execution_count": 6,
   "metadata": {},
   "outputs": [],
   "source": [
    "ind = ind[ind['country']==\"US\"].reset_index(drop=True)"
   ]
  },
  {
   "cell_type": "code",
   "execution_count": 7,
   "metadata": {},
   "outputs": [
    {
     "data": {
      "text/html": [
       "<div>\n",
       "<style scoped>\n",
       "    .dataframe tbody tr th:only-of-type {\n",
       "        vertical-align: middle;\n",
       "    }\n",
       "\n",
       "    .dataframe tbody tr th {\n",
       "        vertical-align: top;\n",
       "    }\n",
       "\n",
       "    .dataframe thead th {\n",
       "        text-align: right;\n",
       "    }\n",
       "</style>\n",
       "<table border=\"1\" class=\"dataframe\">\n",
       "  <thead>\n",
       "    <tr style=\"text-align: right;\">\n",
       "      <th></th>\n",
       "      <th>id</th>\n",
       "      <th>first_name</th>\n",
       "      <th>middle_name</th>\n",
       "      <th>last_name</th>\n",
       "      <th>city</th>\n",
       "      <th>state</th>\n",
       "      <th>country</th>\n",
       "    </tr>\n",
       "  </thead>\n",
       "  <tbody>\n",
       "    <tr>\n",
       "      <th>count</th>\n",
       "      <td>1566090</td>\n",
       "      <td>1566043</td>\n",
       "      <td>1143673</td>\n",
       "      <td>1566074</td>\n",
       "      <td>1565405</td>\n",
       "      <td>1564612</td>\n",
       "      <td>1566090</td>\n",
       "    </tr>\n",
       "    <tr>\n",
       "      <th>unique</th>\n",
       "      <td>1241107</td>\n",
       "      <td>69676</td>\n",
       "      <td>21621</td>\n",
       "      <td>287966</td>\n",
       "      <td>40499</td>\n",
       "      <td>61</td>\n",
       "      <td>1</td>\n",
       "    </tr>\n",
       "    <tr>\n",
       "      <th>top</th>\n",
       "      <td>5766379-2</td>\n",
       "      <td>John</td>\n",
       "      <td>J.</td>\n",
       "      <td>Smith</td>\n",
       "      <td>San Jose</td>\n",
       "      <td>CA</td>\n",
       "      <td>US</td>\n",
       "    </tr>\n",
       "    <tr>\n",
       "      <th>freq</th>\n",
       "      <td>51</td>\n",
       "      <td>51352</td>\n",
       "      <td>101215</td>\n",
       "      <td>7999</td>\n",
       "      <td>25232</td>\n",
       "      <td>309245</td>\n",
       "      <td>1566090</td>\n",
       "    </tr>\n",
       "  </tbody>\n",
       "</table>\n",
       "</div>"
      ],
      "text/plain": [
       "               id first_name middle_name last_name      city    state  country\n",
       "count     1566090    1566043     1143673   1566074   1565405  1564612  1566090\n",
       "unique    1241107      69676       21621    287966     40499       61        1\n",
       "top     5766379-2       John          J.     Smith  San Jose       CA       US\n",
       "freq           51      51352      101215      7999     25232   309245  1566090"
      ]
     },
     "execution_count": 7,
     "metadata": {},
     "output_type": "execute_result"
    }
   ],
   "source": [
    "ind.describe(include='all')"
   ]
  },
  {
   "cell_type": "markdown",
   "metadata": {},
   "source": [
    "### Data Cleanup"
   ]
  },
  {
   "cell_type": "code",
   "execution_count": 8,
   "metadata": {},
   "outputs": [],
   "source": [
    "string_vars = ['first_name', 'middle_name', 'last_name', 'city', 'state', 'country']\n",
    "for var in string_vars:\n",
    "    ind[var] = ind[var].str.upper().str.strip().fillna('')"
   ]
  },
  {
   "cell_type": "markdown",
   "metadata": {},
   "source": [
    "## TO DO: REMOVE SPECIAL CHARACTERS"
   ]
  },
  {
   "cell_type": "markdown",
   "metadata": {},
   "source": [
    "### Export to CSV"
   ]
  },
  {
   "cell_type": "code",
   "execution_count": 9,
   "metadata": {},
   "outputs": [],
   "source": [
    "ind.to_csv('../data/individuals_clean.csv', index=False)"
   ]
  },
  {
   "cell_type": "code",
   "execution_count": 10,
   "metadata": {},
   "outputs": [],
   "source": [
    "ind.head(10000).to_csv('../data/individuals_clean_sample.csv', index=False)"
   ]
  },
  {
   "cell_type": "markdown",
   "metadata": {},
   "source": [
    "## Scrape Profiles"
   ]
  },
  {
   "cell_type": "markdown",
   "metadata": {},
   "source": [
    "__Run `scraper.py` code.__"
   ]
  },
  {
   "cell_type": "code",
   "execution_count": 11,
   "metadata": {},
   "outputs": [],
   "source": [
    "# !python scraper.py"
   ]
  },
  {
   "cell_type": "markdown",
   "metadata": {},
   "source": [
    "Depending on the size of your data, you might want to alter the age_scraper code."
   ]
  },
  {
   "cell_type": "markdown",
   "metadata": {},
   "source": [
    "The following code works for a limited number of queries.\n",
    "```\n",
    "import pandas as pd\n",
    "from veromi_query import query\n",
    "\n",
    "# Load in data:\n",
    "ind = pd.read_csv('../data/ind_clean.csv', low_memory=False)\n",
    "ind = ind.fillna('')\n",
    "\n",
    "# Query Veromi:\n",
    "profiles = query([[0, ind, ind.shape[0]])\n",
    "\n",
    "# Export to CSV:\n",
    "profiles.to_csv('../output/scraper_output/individuals_clean_ages.csv', index=False)\n",
    "```"
   ]
  },
  {
   "cell_type": "markdown",
   "metadata": {},
   "source": [
    "When running a large number of queries, I adapt the code for parallelization. Here is the example for 3 parallel tasks.\n",
    "```\n",
    "from multiprocessing import Pool\n",
    "import multiprocessing\n",
    "import pandas as pd\n",
    "from veromi_query import query\n",
    "\n",
    "# Load in data:\n",
    "ind = pd.read_csv('../data/ind_clean.csv', low_memory=False)\n",
    "ind = ind.fillna('')\n",
    "\n",
    "# Define Pool:\n",
    "pool = Pool(processes=3)\n",
    "\n",
    "# Run query for the job:\n",
    "profiles0 = pool.apply_async(query, [[0, ind, 1000000]])\n",
    "profiles1 = pool.apply_async(query, [[1, ind, 1000000]])\n",
    "profiles2 = pool.apply_async(query, [[2, ind, 1000000]])\n",
    "profiles0 = profiles0.get()\n",
    "profiles1 = profiles1.get()\n",
    "profiles2 = profiles2.get()\n",
    "\n",
    "# Combine Frames:\n",
    "frames = [profiles0, profiles1, profiles2]\n",
    "\n",
    "profiles = pd.concat(frames).reset_index(drop=True)\n",
    "\n",
    "# Export results as CSV\n",
    "profiles.to_csv('../output/scraper_output/individuals_clean_ages.csv', index=False)\n",
    "```\n",
    "For this project, I used a clustered computing system and 100 parallel tasks."
   ]
  },
  {
   "cell_type": "markdown",
   "metadata": {},
   "source": [
    "## Parse Age from Data"
   ]
  },
  {
   "cell_type": "code",
   "execution_count": 12,
   "metadata": {},
   "outputs": [],
   "source": [
    "# Load in entire dataset\n",
    "ind_info = pd.read_csv('../output/scraper_output/individuals_clean_ages.csv', low_memory=True)"
   ]
  },
  {
   "cell_type": "code",
   "execution_count": 13,
   "metadata": {},
   "outputs": [
    {
     "data": {
      "text/html": [
       "<div>\n",
       "<style scoped>\n",
       "    .dataframe tbody tr th:only-of-type {\n",
       "        vertical-align: middle;\n",
       "    }\n",
       "\n",
       "    .dataframe tbody tr th {\n",
       "        vertical-align: top;\n",
       "    }\n",
       "\n",
       "    .dataframe thead th {\n",
       "        text-align: right;\n",
       "    }\n",
       "</style>\n",
       "<table border=\"1\" class=\"dataframe\">\n",
       "  <thead>\n",
       "    <tr style=\"text-align: right;\">\n",
       "      <th></th>\n",
       "      <th>id</th>\n",
       "      <th>name_age</th>\n",
       "      <th>cities</th>\n",
       "    </tr>\n",
       "  </thead>\n",
       "  <tbody>\n",
       "    <tr>\n",
       "      <th>count</th>\n",
       "      <td>5943466</td>\n",
       "      <td>5943466</td>\n",
       "      <td>5833892</td>\n",
       "    </tr>\n",
       "    <tr>\n",
       "      <th>unique</th>\n",
       "      <td>1107304</td>\n",
       "      <td>3890031</td>\n",
       "      <td>2151107</td>\n",
       "    </tr>\n",
       "    <tr>\n",
       "      <th>top</th>\n",
       "      <td>5218538-1</td>\n",
       "      <td>SMITH, DAVID</td>\n",
       "      <td>HOUSTON, TX</td>\n",
       "    </tr>\n",
       "    <tr>\n",
       "      <th>freq</th>\n",
       "      <td>878</td>\n",
       "      <td>1359</td>\n",
       "      <td>73235</td>\n",
       "    </tr>\n",
       "  </tbody>\n",
       "</table>\n",
       "</div>"
      ],
      "text/plain": [
       "               id       name_age       cities\n",
       "count     5943466        5943466      5833892\n",
       "unique    1107304        3890031      2151107\n",
       "top     5218538-1  SMITH, DAVID   HOUSTON, TX\n",
       "freq          878           1359        73235"
      ]
     },
     "execution_count": 13,
     "metadata": {},
     "output_type": "execute_result"
    }
   ],
   "source": [
    "ind_info.describe(include='all')"
   ]
  },
  {
   "cell_type": "code",
   "execution_count": 14,
   "metadata": {},
   "outputs": [
    {
     "data": {
      "text/plain": [
       "(5943466, 3)"
      ]
     },
     "execution_count": 14,
     "metadata": {},
     "output_type": "execute_result"
    }
   ],
   "source": [
    "ind_info.shape"
   ]
  },
  {
   "cell_type": "code",
   "execution_count": 15,
   "metadata": {},
   "outputs": [
    {
     "data": {
      "text/plain": [
       "(5083319, 3)"
      ]
     },
     "execution_count": 15,
     "metadata": {},
     "output_type": "execute_result"
    }
   ],
   "source": [
    "ind_info.drop_duplicates().shape"
   ]
  },
  {
   "cell_type": "code",
   "execution_count": 16,
   "metadata": {},
   "outputs": [],
   "source": [
    "ind_info['name'] = ind_info['name_age'].str.replace(r'\\(.+\\)', '').str.strip()\n",
    "ind_info['age'] = ind_info['name_age'].str.extract(r'(\\(Age\\s\\d+\\))', expand=True)\n",
    "ind_info['age'] = pd.to_numeric(ind_info['age'].str.extract(r'(\\d+)', expand=False))\n",
    "del ind_info['name_age']"
   ]
  },
  {
   "cell_type": "code",
   "execution_count": 17,
   "metadata": {},
   "outputs": [
    {
     "data": {
      "text/html": [
       "<div>\n",
       "<style scoped>\n",
       "    .dataframe tbody tr th:only-of-type {\n",
       "        vertical-align: middle;\n",
       "    }\n",
       "\n",
       "    .dataframe tbody tr th {\n",
       "        vertical-align: top;\n",
       "    }\n",
       "\n",
       "    .dataframe thead th {\n",
       "        text-align: right;\n",
       "    }\n",
       "</style>\n",
       "<table border=\"1\" class=\"dataframe\">\n",
       "  <thead>\n",
       "    <tr style=\"text-align: right;\">\n",
       "      <th></th>\n",
       "      <th>id</th>\n",
       "      <th>cities</th>\n",
       "      <th>name</th>\n",
       "      <th>age</th>\n",
       "    </tr>\n",
       "  </thead>\n",
       "  <tbody>\n",
       "    <tr>\n",
       "      <th>0</th>\n",
       "      <td>3972338-1</td>\n",
       "      <td>GREENVILLE, DE; PLYMOUTH, WI; ATLANTA, GA; MAR...</td>\n",
       "      <td>SCHMITT, DONALD HOLSTON</td>\n",
       "      <td>61.0</td>\n",
       "    </tr>\n",
       "    <tr>\n",
       "      <th>1</th>\n",
       "      <td>3972338-1</td>\n",
       "      <td>CUMMING, GA; NORTHRIDGE, CA; NORTH HILLS, CA</td>\n",
       "      <td>SCHMITT, DONALD E</td>\n",
       "      <td>83.0</td>\n",
       "    </tr>\n",
       "    <tr>\n",
       "      <th>2</th>\n",
       "      <td>3972338-1</td>\n",
       "      <td>WILMINGTON, NC; ATLANTA, GA</td>\n",
       "      <td>SCHMITT, DONALD BACHE</td>\n",
       "      <td>80.0</td>\n",
       "    </tr>\n",
       "    <tr>\n",
       "      <th>3</th>\n",
       "      <td>3972338-1</td>\n",
       "      <td>SNELLVILLE, GA; LADY LAKE, FL; LITHONIA, GA</td>\n",
       "      <td>DONALD, SCHMITT</td>\n",
       "      <td>NaN</td>\n",
       "    </tr>\n",
       "    <tr>\n",
       "      <th>4</th>\n",
       "      <td>3972338-1</td>\n",
       "      <td>ATLANTA, GA; MARIETTA, GA; SOCIAL CIRCLE, GA; ...</td>\n",
       "      <td>SCHMITT, DONALD W</td>\n",
       "      <td>61.0</td>\n",
       "    </tr>\n",
       "  </tbody>\n",
       "</table>\n",
       "</div>"
      ],
      "text/plain": [
       "          id                                             cities  \\\n",
       "0  3972338-1  GREENVILLE, DE; PLYMOUTH, WI; ATLANTA, GA; MAR...   \n",
       "1  3972338-1       CUMMING, GA; NORTHRIDGE, CA; NORTH HILLS, CA   \n",
       "2  3972338-1                        WILMINGTON, NC; ATLANTA, GA   \n",
       "3  3972338-1        SNELLVILLE, GA; LADY LAKE, FL; LITHONIA, GA   \n",
       "4  3972338-1  ATLANTA, GA; MARIETTA, GA; SOCIAL CIRCLE, GA; ...   \n",
       "\n",
       "                      name   age  \n",
       "0  SCHMITT, DONALD HOLSTON  61.0  \n",
       "1        SCHMITT, DONALD E  83.0  \n",
       "2    SCHMITT, DONALD BACHE  80.0  \n",
       "3          DONALD, SCHMITT   NaN  \n",
       "4        SCHMITT, DONALD W  61.0  "
      ]
     },
     "execution_count": 17,
     "metadata": {},
     "output_type": "execute_result"
    }
   ],
   "source": [
    "ind_info.head()"
   ]
  },
  {
   "cell_type": "markdown",
   "metadata": {},
   "source": [
    "### Export Data with All Ages associated to a given Individual"
   ]
  },
  {
   "cell_type": "code",
   "execution_count": 18,
   "metadata": {},
   "outputs": [],
   "source": [
    "# Temp:\n",
    "ind_info.to_csv('../output/individual_ages_extensive.csv', index=False)"
   ]
  },
  {
   "cell_type": "markdown",
   "metadata": {},
   "source": [
    "## To Do: Decide on the most relevant Age per Individual"
   ]
  },
  {
   "cell_type": "markdown",
   "metadata": {},
   "source": [
    "For IDs that are affiliated to several potential ages, let's use the cities and name to decide on the most probable match."
   ]
  },
  {
   "cell_type": "markdown",
   "metadata": {},
   "source": [
    "For now, let's keep the most common age associated to a given Individual\\*Location ID. This also gets rid on `NaN` values."
   ]
  },
  {
   "cell_type": "code",
   "execution_count": 19,
   "metadata": {},
   "outputs": [],
   "source": [
    "age_lookup = ind_info.groupby(['id', 'age']).size().reset_index().rename(columns={0: 'match_count'})\n",
    "age_lookup = age_lookup.sort_values(['id', 'match_count'], ascending=[True, False])\n",
    "age_lookup = age_lookup.drop_duplicates('id', keep='first')\n",
    "del age_lookup['match_count']"
   ]
  },
  {
   "cell_type": "markdown",
   "metadata": {},
   "source": [
    "## Merge back onto the Original Data of Individuals\\*Locations"
   ]
  },
  {
   "cell_type": "code",
   "execution_count": 20,
   "metadata": {},
   "outputs": [],
   "source": [
    "ind = pd.read_csv('../data/individuals_clean.csv')"
   ]
  },
  {
   "cell_type": "code",
   "execution_count": 21,
   "metadata": {},
   "outputs": [],
   "source": [
    "ind = pd.merge(ind, age_lookup, how='left', on='id')"
   ]
  },
  {
   "cell_type": "code",
   "execution_count": 22,
   "metadata": {},
   "outputs": [
    {
     "data": {
      "text/html": [
       "<div>\n",
       "<style scoped>\n",
       "    .dataframe tbody tr th:only-of-type {\n",
       "        vertical-align: middle;\n",
       "    }\n",
       "\n",
       "    .dataframe tbody tr th {\n",
       "        vertical-align: top;\n",
       "    }\n",
       "\n",
       "    .dataframe thead th {\n",
       "        text-align: right;\n",
       "    }\n",
       "</style>\n",
       "<table border=\"1\" class=\"dataframe\">\n",
       "  <thead>\n",
       "    <tr style=\"text-align: right;\">\n",
       "      <th></th>\n",
       "      <th>id</th>\n",
       "      <th>first_name</th>\n",
       "      <th>middle_name</th>\n",
       "      <th>last_name</th>\n",
       "      <th>city</th>\n",
       "      <th>state</th>\n",
       "      <th>country</th>\n",
       "      <th>age</th>\n",
       "    </tr>\n",
       "  </thead>\n",
       "  <tbody>\n",
       "    <tr>\n",
       "      <th>count</th>\n",
       "      <td>1566090</td>\n",
       "      <td>1566024</td>\n",
       "      <td>1143648</td>\n",
       "      <td>1566019</td>\n",
       "      <td>1565405</td>\n",
       "      <td>1564612</td>\n",
       "      <td>1566090</td>\n",
       "      <td>1.326465e+06</td>\n",
       "    </tr>\n",
       "    <tr>\n",
       "      <th>unique</th>\n",
       "      <td>1241107</td>\n",
       "      <td>69206</td>\n",
       "      <td>21471</td>\n",
       "      <td>286234</td>\n",
       "      <td>39819</td>\n",
       "      <td>61</td>\n",
       "      <td>1</td>\n",
       "      <td>NaN</td>\n",
       "    </tr>\n",
       "    <tr>\n",
       "      <th>top</th>\n",
       "      <td>5766379-2</td>\n",
       "      <td>JOHN</td>\n",
       "      <td>J.</td>\n",
       "      <td>SMITH</td>\n",
       "      <td>SAN JOSE</td>\n",
       "      <td>CA</td>\n",
       "      <td>US</td>\n",
       "      <td>NaN</td>\n",
       "    </tr>\n",
       "    <tr>\n",
       "      <th>freq</th>\n",
       "      <td>51</td>\n",
       "      <td>51352</td>\n",
       "      <td>101216</td>\n",
       "      <td>7999</td>\n",
       "      <td>25237</td>\n",
       "      <td>309245</td>\n",
       "      <td>1566090</td>\n",
       "      <td>NaN</td>\n",
       "    </tr>\n",
       "    <tr>\n",
       "      <th>mean</th>\n",
       "      <td>NaN</td>\n",
       "      <td>NaN</td>\n",
       "      <td>NaN</td>\n",
       "      <td>NaN</td>\n",
       "      <td>NaN</td>\n",
       "      <td>NaN</td>\n",
       "      <td>NaN</td>\n",
       "      <td>5.878266e+01</td>\n",
       "    </tr>\n",
       "    <tr>\n",
       "      <th>std</th>\n",
       "      <td>NaN</td>\n",
       "      <td>NaN</td>\n",
       "      <td>NaN</td>\n",
       "      <td>NaN</td>\n",
       "      <td>NaN</td>\n",
       "      <td>NaN</td>\n",
       "      <td>NaN</td>\n",
       "      <td>1.316947e+01</td>\n",
       "    </tr>\n",
       "    <tr>\n",
       "      <th>min</th>\n",
       "      <td>NaN</td>\n",
       "      <td>NaN</td>\n",
       "      <td>NaN</td>\n",
       "      <td>NaN</td>\n",
       "      <td>NaN</td>\n",
       "      <td>NaN</td>\n",
       "      <td>NaN</td>\n",
       "      <td>1.800000e+01</td>\n",
       "    </tr>\n",
       "    <tr>\n",
       "      <th>25%</th>\n",
       "      <td>NaN</td>\n",
       "      <td>NaN</td>\n",
       "      <td>NaN</td>\n",
       "      <td>NaN</td>\n",
       "      <td>NaN</td>\n",
       "      <td>NaN</td>\n",
       "      <td>NaN</td>\n",
       "      <td>5.000000e+01</td>\n",
       "    </tr>\n",
       "    <tr>\n",
       "      <th>50%</th>\n",
       "      <td>NaN</td>\n",
       "      <td>NaN</td>\n",
       "      <td>NaN</td>\n",
       "      <td>NaN</td>\n",
       "      <td>NaN</td>\n",
       "      <td>NaN</td>\n",
       "      <td>NaN</td>\n",
       "      <td>5.800000e+01</td>\n",
       "    </tr>\n",
       "    <tr>\n",
       "      <th>75%</th>\n",
       "      <td>NaN</td>\n",
       "      <td>NaN</td>\n",
       "      <td>NaN</td>\n",
       "      <td>NaN</td>\n",
       "      <td>NaN</td>\n",
       "      <td>NaN</td>\n",
       "      <td>NaN</td>\n",
       "      <td>6.600000e+01</td>\n",
       "    </tr>\n",
       "    <tr>\n",
       "      <th>max</th>\n",
       "      <td>NaN</td>\n",
       "      <td>NaN</td>\n",
       "      <td>NaN</td>\n",
       "      <td>NaN</td>\n",
       "      <td>NaN</td>\n",
       "      <td>NaN</td>\n",
       "      <td>NaN</td>\n",
       "      <td>1.380000e+02</td>\n",
       "    </tr>\n",
       "  </tbody>\n",
       "</table>\n",
       "</div>"
      ],
      "text/plain": [
       "               id first_name middle_name last_name      city    state  \\\n",
       "count     1566090    1566024     1143648   1566019   1565405  1564612   \n",
       "unique    1241107      69206       21471    286234     39819       61   \n",
       "top     5766379-2       JOHN          J.     SMITH  SAN JOSE       CA   \n",
       "freq           51      51352      101216      7999     25237   309245   \n",
       "mean          NaN        NaN         NaN       NaN       NaN      NaN   \n",
       "std           NaN        NaN         NaN       NaN       NaN      NaN   \n",
       "min           NaN        NaN         NaN       NaN       NaN      NaN   \n",
       "25%           NaN        NaN         NaN       NaN       NaN      NaN   \n",
       "50%           NaN        NaN         NaN       NaN       NaN      NaN   \n",
       "75%           NaN        NaN         NaN       NaN       NaN      NaN   \n",
       "max           NaN        NaN         NaN       NaN       NaN      NaN   \n",
       "\n",
       "        country           age  \n",
       "count   1566090  1.326465e+06  \n",
       "unique        1           NaN  \n",
       "top          US           NaN  \n",
       "freq    1566090           NaN  \n",
       "mean        NaN  5.878266e+01  \n",
       "std         NaN  1.316947e+01  \n",
       "min         NaN  1.800000e+01  \n",
       "25%         NaN  5.000000e+01  \n",
       "50%         NaN  5.800000e+01  \n",
       "75%         NaN  6.600000e+01  \n",
       "max         NaN  1.380000e+02  "
      ]
     },
     "execution_count": 22,
     "metadata": {},
     "output_type": "execute_result"
    }
   ],
   "source": [
    "ind.describe(include='all')"
   ]
  },
  {
   "cell_type": "code",
   "execution_count": 23,
   "metadata": {},
   "outputs": [],
   "source": [
    "ind.to_csv('../output/individual_age.csv', index=False)"
   ]
  },
  {
   "cell_type": "markdown",
   "metadata": {},
   "source": [
    "## Sandbox"
   ]
  },
  {
   "cell_type": "code",
   "execution_count": null,
   "metadata": {},
   "outputs": [],
   "source": []
  }
 ],
 "metadata": {
  "kernelspec": {
   "display_name": "Python 3",
   "language": "python",
   "name": "python3"
  },
  "language_info": {
   "codemirror_mode": {
    "name": "ipython",
    "version": 3
   },
   "file_extension": ".py",
   "mimetype": "text/x-python",
   "name": "python",
   "nbconvert_exporter": "python",
   "pygments_lexer": "ipython3",
   "version": "3.6.2"
  },
  "toc": {
   "nav_menu": {},
   "number_sections": false,
   "sideBar": true,
   "skip_h1_title": false,
   "title_cell": "Table of Contents",
   "title_sidebar": "Contents",
   "toc_cell": false,
   "toc_position": {
    "height": "calc(100% - 180px)",
    "left": "10px",
    "top": "150px",
    "width": "210px"
   },
   "toc_section_display": true,
   "toc_window_display": true
  }
 },
 "nbformat": 4,
 "nbformat_minor": 2
}
