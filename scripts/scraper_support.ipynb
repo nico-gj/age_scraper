{
 "cells": [
  {
   "cell_type": "markdown",
   "metadata": {},
   "source": [
    "# Practical Tasks for Age Scraper"
   ]
  },
  {
   "cell_type": "markdown",
   "metadata": {},
   "source": [
    "## Python Setup"
   ]
  },
  {
   "cell_type": "code",
   "execution_count": 2,
   "metadata": {},
   "outputs": [],
   "source": [
    "import re\n",
    "import pandas as pd\n",
    "from bs4 import BeautifulSoup"
   ]
  },
  {
   "cell_type": "markdown",
   "metadata": {},
   "source": [
    "## Load In Data"
   ]
  },
  {
   "cell_type": "code",
   "execution_count": 3,
   "metadata": {},
   "outputs": [
    {
     "name": "stdout",
     "output_type": "stream",
     "text": [
      "1566090 individuals to scrape\n"
     ]
    }
   ],
   "source": [
    "# Are you running on all data or on sample ?\n",
    "# 'ind_clean' or 'ind_clean_sample' \n",
    "datafile = 'individuals_clean'\n",
    "\n",
    "ind = pd.read_csv('../data/{}.csv'.format(datafile))\n",
    "print(\"{} individuals to scrape\".format(ind.shape[0]))"
   ]
  },
  {
   "cell_type": "markdown",
   "metadata": {},
   "source": [
    "## Write the Age Scraper Python Code"
   ]
  },
  {
   "cell_type": "code",
   "execution_count": 35,
   "metadata": {},
   "outputs": [],
   "source": [
    "# How many cores do you have to run the scraper?\n",
    "nb_processes = 100"
   ]
  },
  {
   "cell_type": "code",
   "execution_count": 36,
   "metadata": {},
   "outputs": [
    {
     "name": "stdout",
     "output_type": "stream",
     "text": [
      "15660.9\n"
     ]
    }
   ],
   "source": [
    "# This is the min number of queries you need on every subtask to look through all rows of data\n",
    "min_k = ind.shape[0]/nb_processes\n",
    "print(min_k)"
   ]
  },
  {
   "cell_type": "code",
   "execution_count": 37,
   "metadata": {},
   "outputs": [
    {
     "name": "stdout",
     "output_type": "stream",
     "text": [
      "True\n"
     ]
    }
   ],
   "source": [
    "# Now let's decide on the actual number of queries per subtask\n",
    "k = 16000\n",
    "print(k>min_k)"
   ]
  },
  {
   "cell_type": "code",
   "execution_count": 33,
   "metadata": {},
   "outputs": [],
   "source": [
    "# How often do you want to be warned about the progress?\n",
    "out = 50000"
   ]
  },
  {
   "cell_type": "markdown",
   "metadata": {},
   "source": [
    "### Paste the following into `age_scraper.py`:"
   ]
  },
  {
   "cell_type": "code",
   "execution_count": 34,
   "metadata": {
    "scrolled": false
   },
   "outputs": [
    {
     "name": "stdout",
     "output_type": "stream",
     "text": [
      "\n",
      "from multiprocessing import Pool\n",
      "import multiprocessing\n",
      "import pandas as pd\n",
      "from veromi_query import query\n",
      "\n",
      "\n",
      "# Load in data:\n",
      "ind = pd.read_csv('../data/individuals_clean.csv', low_memory=False)\n",
      "ind = ind.fillna('')\n",
      "\n",
      "# Define Pool:\n",
      "pool = Pool(processes=101)\n",
      "\n",
      "# Run query for the job:\n",
      "profiles0 = pool.apply_async(query, [[0, ind, 16500, 50000]])\n",
      "profiles1 = pool.apply_async(query, [[1, ind, 16500, 50000]])\n",
      "profiles2 = pool.apply_async(query, [[2, ind, 16500, 50000]])\n",
      "profiles3 = pool.apply_async(query, [[3, ind, 16500, 50000]])\n",
      "profiles4 = pool.apply_async(query, [[4, ind, 16500, 50000]])\n",
      "profiles5 = pool.apply_async(query, [[5, ind, 16500, 50000]])\n",
      "profiles6 = pool.apply_async(query, [[6, ind, 16500, 50000]])\n",
      "profiles7 = pool.apply_async(query, [[7, ind, 16500, 50000]])\n",
      "profiles8 = pool.apply_async(query, [[8, ind, 16500, 50000]])\n",
      "profiles9 = pool.apply_async(query, [[9, ind, 16500, 50000]])\n",
      "profiles10 = pool.apply_async(query, [[10, ind, 16500, 50000]])\n",
      "profiles11 = pool.apply_async(query, [[11, ind, 16500, 50000]])\n",
      "profiles12 = pool.apply_async(query, [[12, ind, 16500, 50000]])\n",
      "profiles13 = pool.apply_async(query, [[13, ind, 16500, 50000]])\n",
      "profiles14 = pool.apply_async(query, [[14, ind, 16500, 50000]])\n",
      "profiles15 = pool.apply_async(query, [[15, ind, 16500, 50000]])\n",
      "profiles16 = pool.apply_async(query, [[16, ind, 16500, 50000]])\n",
      "profiles17 = pool.apply_async(query, [[17, ind, 16500, 50000]])\n",
      "profiles18 = pool.apply_async(query, [[18, ind, 16500, 50000]])\n",
      "profiles19 = pool.apply_async(query, [[19, ind, 16500, 50000]])\n",
      "profiles20 = pool.apply_async(query, [[20, ind, 16500, 50000]])\n",
      "profiles21 = pool.apply_async(query, [[21, ind, 16500, 50000]])\n",
      "profiles22 = pool.apply_async(query, [[22, ind, 16500, 50000]])\n",
      "profiles23 = pool.apply_async(query, [[23, ind, 16500, 50000]])\n",
      "profiles24 = pool.apply_async(query, [[24, ind, 16500, 50000]])\n",
      "profiles25 = pool.apply_async(query, [[25, ind, 16500, 50000]])\n",
      "profiles26 = pool.apply_async(query, [[26, ind, 16500, 50000]])\n",
      "profiles27 = pool.apply_async(query, [[27, ind, 16500, 50000]])\n",
      "profiles28 = pool.apply_async(query, [[28, ind, 16500, 50000]])\n",
      "profiles29 = pool.apply_async(query, [[29, ind, 16500, 50000]])\n",
      "profiles30 = pool.apply_async(query, [[30, ind, 16500, 50000]])\n",
      "profiles31 = pool.apply_async(query, [[31, ind, 16500, 50000]])\n",
      "profiles32 = pool.apply_async(query, [[32, ind, 16500, 50000]])\n",
      "profiles33 = pool.apply_async(query, [[33, ind, 16500, 50000]])\n",
      "profiles34 = pool.apply_async(query, [[34, ind, 16500, 50000]])\n",
      "profiles35 = pool.apply_async(query, [[35, ind, 16500, 50000]])\n",
      "profiles36 = pool.apply_async(query, [[36, ind, 16500, 50000]])\n",
      "profiles37 = pool.apply_async(query, [[37, ind, 16500, 50000]])\n",
      "profiles38 = pool.apply_async(query, [[38, ind, 16500, 50000]])\n",
      "profiles39 = pool.apply_async(query, [[39, ind, 16500, 50000]])\n",
      "profiles40 = pool.apply_async(query, [[40, ind, 16500, 50000]])\n",
      "profiles41 = pool.apply_async(query, [[41, ind, 16500, 50000]])\n",
      "profiles42 = pool.apply_async(query, [[42, ind, 16500, 50000]])\n",
      "profiles43 = pool.apply_async(query, [[43, ind, 16500, 50000]])\n",
      "profiles44 = pool.apply_async(query, [[44, ind, 16500, 50000]])\n",
      "profiles45 = pool.apply_async(query, [[45, ind, 16500, 50000]])\n",
      "profiles46 = pool.apply_async(query, [[46, ind, 16500, 50000]])\n",
      "profiles47 = pool.apply_async(query, [[47, ind, 16500, 50000]])\n",
      "profiles48 = pool.apply_async(query, [[48, ind, 16500, 50000]])\n",
      "profiles49 = pool.apply_async(query, [[49, ind, 16500, 50000]])\n",
      "profiles50 = pool.apply_async(query, [[50, ind, 16500, 50000]])\n",
      "profiles51 = pool.apply_async(query, [[51, ind, 16500, 50000]])\n",
      "profiles52 = pool.apply_async(query, [[52, ind, 16500, 50000]])\n",
      "profiles53 = pool.apply_async(query, [[53, ind, 16500, 50000]])\n",
      "profiles54 = pool.apply_async(query, [[54, ind, 16500, 50000]])\n",
      "profiles55 = pool.apply_async(query, [[55, ind, 16500, 50000]])\n",
      "profiles56 = pool.apply_async(query, [[56, ind, 16500, 50000]])\n",
      "profiles57 = pool.apply_async(query, [[57, ind, 16500, 50000]])\n",
      "profiles58 = pool.apply_async(query, [[58, ind, 16500, 50000]])\n",
      "profiles59 = pool.apply_async(query, [[59, ind, 16500, 50000]])\n",
      "profiles60 = pool.apply_async(query, [[60, ind, 16500, 50000]])\n",
      "profiles61 = pool.apply_async(query, [[61, ind, 16500, 50000]])\n",
      "profiles62 = pool.apply_async(query, [[62, ind, 16500, 50000]])\n",
      "profiles63 = pool.apply_async(query, [[63, ind, 16500, 50000]])\n",
      "profiles64 = pool.apply_async(query, [[64, ind, 16500, 50000]])\n",
      "profiles65 = pool.apply_async(query, [[65, ind, 16500, 50000]])\n",
      "profiles66 = pool.apply_async(query, [[66, ind, 16500, 50000]])\n",
      "profiles67 = pool.apply_async(query, [[67, ind, 16500, 50000]])\n",
      "profiles68 = pool.apply_async(query, [[68, ind, 16500, 50000]])\n",
      "profiles69 = pool.apply_async(query, [[69, ind, 16500, 50000]])\n",
      "profiles70 = pool.apply_async(query, [[70, ind, 16500, 50000]])\n",
      "profiles71 = pool.apply_async(query, [[71, ind, 16500, 50000]])\n",
      "profiles72 = pool.apply_async(query, [[72, ind, 16500, 50000]])\n",
      "profiles73 = pool.apply_async(query, [[73, ind, 16500, 50000]])\n",
      "profiles74 = pool.apply_async(query, [[74, ind, 16500, 50000]])\n",
      "profiles75 = pool.apply_async(query, [[75, ind, 16500, 50000]])\n",
      "profiles76 = pool.apply_async(query, [[76, ind, 16500, 50000]])\n",
      "profiles77 = pool.apply_async(query, [[77, ind, 16500, 50000]])\n",
      "profiles78 = pool.apply_async(query, [[78, ind, 16500, 50000]])\n",
      "profiles79 = pool.apply_async(query, [[79, ind, 16500, 50000]])\n",
      "profiles80 = pool.apply_async(query, [[80, ind, 16500, 50000]])\n",
      "profiles81 = pool.apply_async(query, [[81, ind, 16500, 50000]])\n",
      "profiles82 = pool.apply_async(query, [[82, ind, 16500, 50000]])\n",
      "profiles83 = pool.apply_async(query, [[83, ind, 16500, 50000]])\n",
      "profiles84 = pool.apply_async(query, [[84, ind, 16500, 50000]])\n",
      "profiles85 = pool.apply_async(query, [[85, ind, 16500, 50000]])\n",
      "profiles86 = pool.apply_async(query, [[86, ind, 16500, 50000]])\n",
      "profiles87 = pool.apply_async(query, [[87, ind, 16500, 50000]])\n",
      "profiles88 = pool.apply_async(query, [[88, ind, 16500, 50000]])\n",
      "profiles89 = pool.apply_async(query, [[89, ind, 16500, 50000]])\n",
      "profiles90 = pool.apply_async(query, [[90, ind, 16500, 50000]])\n",
      "profiles91 = pool.apply_async(query, [[91, ind, 16500, 50000]])\n",
      "profiles92 = pool.apply_async(query, [[92, ind, 16500, 50000]])\n",
      "profiles93 = pool.apply_async(query, [[93, ind, 16500, 50000]])\n",
      "profiles94 = pool.apply_async(query, [[94, ind, 16500, 50000]])\n",
      "profiles95 = pool.apply_async(query, [[95, ind, 16500, 50000]])\n",
      "profiles96 = pool.apply_async(query, [[96, ind, 16500, 50000]])\n",
      "profiles97 = pool.apply_async(query, [[97, ind, 16500, 50000]])\n",
      "profiles98 = pool.apply_async(query, [[98, ind, 16500, 50000]])\n",
      "profiles99 = pool.apply_async(query, [[99, ind, 16500, 50000]])\n",
      "profiles100 = pool.apply_async(query, [[100, ind, 16500, 50000]])\n",
      "profiles0 = profiles0.get()\n",
      "profiles1 = profiles1.get()\n",
      "profiles2 = profiles2.get()\n",
      "profiles3 = profiles3.get()\n",
      "profiles4 = profiles4.get()\n",
      "profiles5 = profiles5.get()\n",
      "profiles6 = profiles6.get()\n",
      "profiles7 = profiles7.get()\n",
      "profiles8 = profiles8.get()\n",
      "profiles9 = profiles9.get()\n",
      "profiles10 = profiles10.get()\n",
      "profiles11 = profiles11.get()\n",
      "profiles12 = profiles12.get()\n",
      "profiles13 = profiles13.get()\n",
      "profiles14 = profiles14.get()\n",
      "profiles15 = profiles15.get()\n",
      "profiles16 = profiles16.get()\n",
      "profiles17 = profiles17.get()\n",
      "profiles18 = profiles18.get()\n",
      "profiles19 = profiles19.get()\n",
      "profiles20 = profiles20.get()\n",
      "profiles21 = profiles21.get()\n",
      "profiles22 = profiles22.get()\n",
      "profiles23 = profiles23.get()\n",
      "profiles24 = profiles24.get()\n",
      "profiles25 = profiles25.get()\n",
      "profiles26 = profiles26.get()\n",
      "profiles27 = profiles27.get()\n",
      "profiles28 = profiles28.get()\n",
      "profiles29 = profiles29.get()\n",
      "profiles30 = profiles30.get()\n",
      "profiles31 = profiles31.get()\n",
      "profiles32 = profiles32.get()\n",
      "profiles33 = profiles33.get()\n",
      "profiles34 = profiles34.get()\n",
      "profiles35 = profiles35.get()\n",
      "profiles36 = profiles36.get()\n",
      "profiles37 = profiles37.get()\n",
      "profiles38 = profiles38.get()\n",
      "profiles39 = profiles39.get()\n",
      "profiles40 = profiles40.get()\n",
      "profiles41 = profiles41.get()\n",
      "profiles42 = profiles42.get()\n",
      "profiles43 = profiles43.get()\n",
      "profiles44 = profiles44.get()\n",
      "profiles45 = profiles45.get()\n",
      "profiles46 = profiles46.get()\n",
      "profiles47 = profiles47.get()\n",
      "profiles48 = profiles48.get()\n",
      "profiles49 = profiles49.get()\n",
      "profiles50 = profiles50.get()\n",
      "profiles51 = profiles51.get()\n",
      "profiles52 = profiles52.get()\n",
      "profiles53 = profiles53.get()\n",
      "profiles54 = profiles54.get()\n",
      "profiles55 = profiles55.get()\n",
      "profiles56 = profiles56.get()\n",
      "profiles57 = profiles57.get()\n",
      "profiles58 = profiles58.get()\n",
      "profiles59 = profiles59.get()\n",
      "profiles60 = profiles60.get()\n",
      "profiles61 = profiles61.get()\n",
      "profiles62 = profiles62.get()\n",
      "profiles63 = profiles63.get()\n",
      "profiles64 = profiles64.get()\n",
      "profiles65 = profiles65.get()\n",
      "profiles66 = profiles66.get()\n",
      "profiles67 = profiles67.get()\n",
      "profiles68 = profiles68.get()\n",
      "profiles69 = profiles69.get()\n",
      "profiles70 = profiles70.get()\n",
      "profiles71 = profiles71.get()\n",
      "profiles72 = profiles72.get()\n",
      "profiles73 = profiles73.get()\n",
      "profiles74 = profiles74.get()\n",
      "profiles75 = profiles75.get()\n",
      "profiles76 = profiles76.get()\n",
      "profiles77 = profiles77.get()\n",
      "profiles78 = profiles78.get()\n",
      "profiles79 = profiles79.get()\n",
      "profiles80 = profiles80.get()\n",
      "profiles81 = profiles81.get()\n",
      "profiles82 = profiles82.get()\n",
      "profiles83 = profiles83.get()\n",
      "profiles84 = profiles84.get()\n",
      "profiles85 = profiles85.get()\n",
      "profiles86 = profiles86.get()\n",
      "profiles87 = profiles87.get()\n",
      "profiles88 = profiles88.get()\n",
      "profiles89 = profiles89.get()\n",
      "profiles90 = profiles90.get()\n",
      "profiles91 = profiles91.get()\n",
      "profiles92 = profiles92.get()\n",
      "profiles93 = profiles93.get()\n",
      "profiles94 = profiles94.get()\n",
      "profiles95 = profiles95.get()\n",
      "profiles96 = profiles96.get()\n",
      "profiles97 = profiles97.get()\n",
      "profiles98 = profiles98.get()\n",
      "profiles99 = profiles99.get()\n",
      "profiles100 = profiles100.get()\n",
      "\n",
      "# Combine Frames:\n",
      "frames = []\n",
      "frames.extend([profiles0, profiles1, profiles2, profiles3, profiles4, profiles5, profiles6, profiles7, profiles8, profiles9])\n",
      "frames.extend([profiles10, profiles11, profiles12, profiles13, profiles14, profiles15, profiles16, profiles17, profiles18, profiles19])\n",
      "frames.extend([profiles20, profiles21, profiles22, profiles23, profiles24, profiles25, profiles26, profiles27, profiles28, profiles29])\n",
      "frames.extend([profiles30, profiles31, profiles32, profiles33, profiles34, profiles35, profiles36, profiles37, profiles38, profiles39])\n",
      "frames.extend([profiles40, profiles41, profiles42, profiles43, profiles44, profiles45, profiles46, profiles47, profiles48, profiles49])\n",
      "frames.extend([profiles50, profiles51, profiles52, profiles53, profiles54, profiles55, profiles56, profiles57, profiles58, profiles59])\n",
      "frames.extend([profiles60, profiles61, profiles62, profiles63, profiles64, profiles65, profiles66, profiles67, profiles68, profiles69])\n",
      "frames.extend([profiles70, profiles71, profiles72, profiles73, profiles74, profiles75, profiles76, profiles77, profiles78, profiles79])\n",
      "frames.extend([profiles80, profiles81, profiles82, profiles83, profiles84, profiles85, profiles86, profiles87, profiles88, profiles89])\n",
      "frames.extend([profiles90, profiles91, profiles92, profiles93, profiles94, profiles95, profiles96, profiles97, profiles98, profiles99])\n",
      "frames.extend([profiles100])\n",
      "\n",
      "profiles = pd.concat(frames).reset_index(drop=True)\n",
      "\n",
      "# Export results as CSV\n",
      "profiles.to_csv('../output/scraper_output/individuals_clean_ages.csv', index=False)\n"
     ]
    }
   ],
   "source": [
    "imports = '''\n",
    "from multiprocessing import Pool\n",
    "import multiprocessing\n",
    "import pandas as pd\n",
    "from veromi_query import query\n",
    "'''\n",
    "print(imports)\n",
    "\n",
    "\n",
    "print(\"\\n# Load in data:\")\n",
    "print(\"ind = pd.read_csv('../data/{}.csv', low_memory=False)\".format(datafile))\n",
    "print(\"ind = ind.fillna('')\")\n",
    "\n",
    "print(\"\\n# Define Pool:\")\n",
    "print(\"pool = Pool(processes={})\".format(nb_processes))\n",
    "\n",
    "print(\"\\n# Run query for the job:\")\n",
    "for i in range(nb_processes):\n",
    "    print(\"profiles{i} = pool.apply_async(query, [[{i}, ind, {k}, {out}]])\".format(i=i, k=k, out=out))\n",
    "for i in range(nb_processes):\n",
    "    print(\"profiles{i} = profiles{i}.get()\".format(i=i))\n",
    "    \n",
    "print(\"\\n# Combine Frames:\")\n",
    "print(\"frames = []\")\n",
    "for i in range(int((nb_processes-1)/10)+1):\n",
    "    string = \"frames.extend([\"\n",
    "    for j in range(10*i, min(10*(i+1), nb_processes)):\n",
    "        string += \"profiles{}, \".format(j)\n",
    "    string = re.sub(r', $', '', string)\n",
    "    string +=\"])\"\n",
    "    print(string)\n",
    "\n",
    "print(\"\\nprofiles = pd.concat(frames).reset_index(drop=True)\")\n",
    "\n",
    "print(\"\\n# Export results as CSV\")\n",
    "print(\"profiles.to_csv('../output/scraper_output/{}_ages.csv', index=False)\".format(datafile))"
   ]
  },
  {
   "cell_type": "markdown",
   "metadata": {},
   "source": [
    "## Expected Results"
   ]
  },
  {
   "cell_type": "markdown",
   "metadata": {},
   "source": [
    "The Python scraper prints out the line number every so often to keep you posted on the progress. When running the scraper with the above choices of `nb_processes` and `k`, here is the expected output, in the expected order. Blank lines represent expected wait time."
   ]
  },
  {
   "cell_type": "code",
   "execution_count": 27,
   "metadata": {
    "scrolled": false
   },
   "outputs": [
    {
     "name": "stdout",
     "output_type": "stream",
     "text": [
      "0\n",
      "400000\n",
      "800000\n",
      "1200000\n",
      "\n",
      "\n",
      "50000\n",
      "450000\n",
      "850000\n",
      "1250000\n",
      "100000\n",
      "500000\n",
      "900000\n",
      "1300000\n",
      "150000\n",
      "550000\n",
      "950000\n",
      "1350000\n",
      "200000\n",
      "600000\n",
      "1000000\n",
      "1400000\n",
      "250000\n",
      "650000\n",
      "1050000\n",
      "1450000\n",
      "300000\n",
      "700000\n",
      "1100000\n",
      "1500000\n",
      "350000\n",
      "750000\n",
      "1150000\n",
      "1550000\n",
      "\n",
      "\n",
      "1599999\n"
     ]
    }
   ],
   "source": [
    "for i in range(k):\n",
    "    for j in range(nb_processes):\n",
    "        count = i+k*j\n",
    "        if count%out==0:\n",
    "            print(count)\n",
    "    if i%int(ind.shape[0]/100)==0:\n",
    "        print(\"\\n\")\n",
    "print(count)"
   ]
  },
  {
   "cell_type": "markdown",
   "metadata": {},
   "source": [
    "## Sandbox"
   ]
  },
  {
   "cell_type": "code",
   "execution_count": null,
   "metadata": {},
   "outputs": [],
   "source": []
  }
 ],
 "metadata": {
  "kernelspec": {
   "display_name": "Python 3",
   "language": "python",
   "name": "python3"
  },
  "language_info": {
   "codemirror_mode": {
    "name": "ipython",
    "version": 3
   },
   "file_extension": ".py",
   "mimetype": "text/x-python",
   "name": "python",
   "nbconvert_exporter": "python",
   "pygments_lexer": "ipython3",
   "version": "3.6.2"
  },
  "toc": {
   "nav_menu": {},
   "number_sections": false,
   "sideBar": true,
   "skip_h1_title": false,
   "title_cell": "Table of Contents",
   "title_sidebar": "Contents",
   "toc_cell": false,
   "toc_position": {
    "height": "calc(100% - 180px)",
    "left": "10px",
    "top": "150px",
    "width": "303px"
   },
   "toc_section_display": true,
   "toc_window_display": true
  }
 },
 "nbformat": 4,
 "nbformat_minor": 2
}
